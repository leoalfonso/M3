{
 "cells": [
  {
   "cell_type": "markdown",
   "metadata": {
    "raw_mimetype": "text/markdown"
   },
   "source": [
    "<div>\n",
    "<table style=\"width: 100%\">\n",
    "\t<tr>\n",
    "\t\t<td>\n",
    "\t\t<table style=\"width: 100%\">\n",
    "\t\t\t<tr>\n",
    "                <td ><center><font size=\"30\">WSD - Module 11</font><center>\n",
    "                    <center><font size=\"30\">Topic: Programming</font><center></td>\n",
    "\t\t\t</tr>\n",
    "\t\t\t<tr>\n",
    "                <td><center><font size=\"5\">Jupyter Notebook 6</font><center></td>\n",
    "\t\t\t</tr>\n",
    "\t\t\t<tr>\n",
    "                <td><center><font size=\"10\">Conditionals and loops</font><center></td>\n",
    "\t\t\t</tr>\n",
    "\t\t</table>\n",
    "\t\t</td>\n",
    "\t\t<td><img src='figures/ihe_logo.png' width=\"200\" height=\"200\"></img></td>\n",
    "\t</tr>\n",
    "</table>\n",
    "</div>    "
   ]
  },
  {
   "cell_type": "markdown",
   "metadata": {},
   "source": [
    "# Table of contents\n",
    "\n",
    "1. [Learning objectives](#learningobs)\n",
    "\n",
    "2. [Conditional commands](#conds)\n",
    "\n",
    "     2.1. [Comparison statements](#comparison)\n",
    "\n",
    "     2.2. [The `in` keyword](#theinkeyword)\n",
    "\n",
    "     2.3. [The `if` - `elif` - `else` statement](#if_stat)\n",
    "\n",
    "     2.4. [Using one-line conditionals](#one_line)\n",
    "\n",
    "     2.5. [Using logical operators in conditionals](#logic)\n",
    "\n",
    "3. [Loops](#loops)\n",
    "\n",
    "     3.1. [The `for` - `in` statement](#for_stat)\n",
    "     \n",
    "     3.2. [The `while` statement](#while_stat)\n",
    "     \n",
    "     3.3. [Lists comprehensions](#compreh)\n",
    "     "
   ]
  },
  {
   "cell_type": "markdown",
   "metadata": {},
   "source": [
    "# 1. Learning Objectives<a name=\"learningobs\"></a> \n",
    "\n",
    "- To identify and apply different conditional commands in Python\n",
    "- To identify and apply different loop commands in Python\n",
    "- To recognise possible mistakes in the structure of conditionals and loops\n",
    " "
   ]
  },
  {
   "cell_type": "markdown",
   "metadata": {},
   "source": [
    "# 2. Conditional commands<a name=\"conds\"></a>\n",
    "\n",
    "In Python, logical operators can have three main roles: 1) to compare statements; 2) to check membership, and 3) to check identity. In any case, the output is a binary value, either `True` or `False`.\n",
    "\n",
    "## 2.1. Comparing statements<a name=\"comparison\"></a>\n",
    "Recall that Python supports the following mathematical operators to compare two statements `a` and `b`:\n",
    "\n",
    "- Equals: `a == b`\n",
    "- Not Equals: `a != b` In general, the exclamation sign (`!`) is a negation \n",
    "- Less than: `a < b`\n",
    "- Less than or equal to: `a <= b`\n",
    "- Greater than: `a > b`\n",
    "- Greater than or equal to: `a >= b`\n",
    "\n",
    "<b>Notes</b>\n",
    "- Do not confuse `a == b` with `a = b`. The former compares `a` and `b`, whereas the later assigns the value of `b` to `a`.\n",
    "\n",
    "## 2.2. The `in` keyword <a name=\"theinkeyword\"></a>\n",
    "This keyword is used to check if an element belongs to an iterable. For example, and recalling that `range(10)` returns a sequence of the integers between `0` and `9`:\n",
    "\n",
    "- The expression `2 in range(10)` returns `True`.\n",
    "- Similarly, the expression `11 in range(10)` returns `False`\n",
    "\n",
    "Try that in the cell below:"
   ]
  },
  {
   "cell_type": "code",
   "execution_count": 1,
   "metadata": {},
   "outputs": [],
   "source": [
    "# Try your code here\n"
   ]
  },
  {
   "cell_type": "markdown",
   "metadata": {},
   "source": [
    "## 2.3 The `if` - `elif` - `else` statements<a name=\"if_stat\"></a>\n",
    "\n",
    "The operators above can be used in several ways, most commonly in `if` statements. An \"`if` statement\" works the same way as in other programming languages. The generic structure in Python is:\n",
    "\n",
    "    if condition:\n",
    "        command 1 (executed when the condition is True)\n",
    "        command 2 (executed after command 1, when the condition is True)\n",
    "        ...\n",
    "    command n, executed regardless the value of the condition\n",
    "\n",
    "Three things to note:\n",
    "\n",
    "- A colon (`:`) follows the condition in the `if` line\n",
    "- Indentations (spaces at the left) below the condition line indicate which commands mnust be excecuted if the conditional is `True` (not by brackets or 'end' keywords)\n",
    "- An unindented line indicates the end of the `if` statement, and it will be executed regardless of the value of the condition\n",
    "\n",
    "### Action\n",
    "\n",
    "Read and memorize the following code. Then, write it down in the cell below <b>without looking back at it!</b>. Then run the cell:\n",
    "\n",
    "    a = 8\n",
    "    b = 12\n",
    "    if b > a:\n",
    "        print(\"b is greater than a\")\n",
    "    print(\"finished\")"
   ]
  },
  {
   "cell_type": "code",
   "execution_count": 5,
   "metadata": {},
   "outputs": [],
   "source": [
    "# Type the code here as you remember it. \n",
    "# For your own benefit: Try not look back at the code! Why? Because mistakes are the base of learning!\n",
    "\n"
   ]
  },
  {
   "cell_type": "markdown",
   "metadata": {},
   "source": [
    "The two variables `a` and `b` are compared in the conditional, testing whether `b` is greater than `a`. As indeed `b > a` is `True`, the first `print` statement is executed: `\"b is greater than a\"`.\n",
    "\n",
    "Write in the cell below what happens when the indentation of the first `print` statement is removed."
   ]
  },
  {
   "cell_type": "markdown",
   "metadata": {},
   "source": [
    "___\n",
    "Type your answer here (double-click to edit, press Shift + Enter when finished).\n",
    "\n",
    "\n",
    "___\n"
   ]
  },
  {
   "cell_type": "markdown",
   "metadata": {},
   "source": [
    "### The `elif` statement<a name=\"elif_stat\"></a>\n",
    "The `elif` statement is Pythons' way of saying \"if the previous conditions were not true, then try this new condition\" (else if).\n",
    "\n",
    "### Action\n",
    "Read and understand the following code. Then, write it down in the cell below <b>without looking at it</b>, and then run it:\n",
    "\n",
    "    a = 33\n",
    "    b = 33\n",
    "    if b > a:\n",
    "        print(\"b is greater than a\")\n",
    "    elif a == b:\n",
    "        print(\"a and b are equal\")"
   ]
  },
  {
   "cell_type": "code",
   "execution_count": 11,
   "metadata": {},
   "outputs": [],
   "source": [
    "# Type the code here as you remember it. \n",
    "# For your own benefit: Try not look back at the code! Why? Because mistakes are the base of learning!\n",
    "\n"
   ]
  },
  {
   "cell_type": "markdown",
   "metadata": {},
   "source": [
    "In this example `a` is equal to `b`, so the first condition is not true. For this reason, the `elif` condition is evaluated. As this new condition appears to be `True`, the string `\"a and b are equal\"` is printed.\n",
    "\n",
    "### The `else` statement<a name=\"else_stat\"></a>\n",
    "\n",
    "In case all previous conditions are `False`, the `else` statement offers the opportunity to execute a final set of commands before exiting the `if` statement. Check the following action.\n",
    "\n",
    "### Action\n",
    "Read and understand the following code. Then, write it down in the cell below <b>without looking at it</b>, then run it:\n",
    "\n",
    "    a = 200\n",
    "    b = 33\n",
    "    if b > a:\n",
    "        print(\"b is greater than a\")\n",
    "    elif a == b:\n",
    "        print(\"a and b are equal\")\n",
    "    else:\n",
    "        print(\"a is greater than b\")"
   ]
  },
  {
   "cell_type": "code",
   "execution_count": 32,
   "metadata": {},
   "outputs": [],
   "source": [
    "# Type the code here as you remember it. \n",
    "# For your own benefit: Try not look back at the code! Why? Because mistakes are the base of learning!\n",
    "\n"
   ]
  },
  {
   "cell_type": "markdown",
   "metadata": {},
   "source": [
    "In this example `a` is greater to `b`, so the first condition is not true. For this reason the `elif` condition is tested. As this condition is not true either, then the `else` condition is evaluated. Therefore, `\"a is greater than b\"` is printed.\n",
    "\n",
    "## 2.4 One-line conditionals<span style='background :yellow' > (self-study)</span><a name=\"one_line\"></a>\n",
    "\n",
    "The conditional keywords explained above can also be written in a single line.\n",
    "\n",
    "If you have only one statement to execute, you can write it in one line, for example:\n",
    "\n",
    "    if a > b: print(\"a is greater than b\")\n",
    "\n",
    "If you have only one statement to execute, one for `if`, and one for `else`, you can put them all in the same line, like this:\n",
    "\n",
    "    print(\"A\") if a > b else print(\"B\")\n",
    "    \n",
    "Here an example of a one-line `if`-`else` statement, with 3 conditions:\n",
    "\n",
    "    print(\"A\") if a > b else print(\"=\") if a == b else print(\"B\")\n",
    "    \n",
    "Although this works well, it is difficult to read. Keep in mind that <i>readability is as important as functionality!</i>\n",
    "    \n",
    "    \n",
    " ## 2.5 Using logical operators (`and` and `or`) in conditionals<span style='background :yellow' > (self-study)</span><a name=\"logic\"></a>\n",
    "\n",
    "### 2.5.1 The `and` keyword\n",
    "The `and` keyword is a logical operator used between two conditionals. It returns `True` if both conditionals are `True`, otherwise it returns `False`. For example, if we want to test if `a` is greater than `b` <b>and, simultaneously,</b> if `c` is greater than `a`, you can write:\n",
    "\n",
    "    if a > b and c > a:\n",
    "        print(\"Both conditions are True\")\n",
    "\n",
    "### 2.5.2. The `or` keyword\n",
    "The `or` keyword is a logical operator used between two conditionals. It returns `False` only when both conditionals are `False`, otherwise it returns `True`. For example, if we want to test if either `a` is greater than `b` <b>or, simultaneously,</b> `c` is greater than `a`, you can write:\n",
    "\n",
    "    if a > b or a > c:\n",
    "        print(\"At least one of the conditions are True\")\n",
    "        \n",
    "#### Note: negating conditions involving AND and OR can result on significant mistakes. The lecturer has shown (or will show) some examples."
   ]
  },
  {
   "cell_type": "markdown",
   "metadata": {},
   "source": [
    "# 3. Loops<a name=\"loops\"></a>\n",
    "Loops are used to execute a block of statements repeatedly. The amount of repetitions is based on the values of a conditional. \n",
    "\n",
    "The main loop statements in Python are `for` and `while`.\n",
    "\n",
    "## 3.1 The `for`- `in` statement<a name=\"for_stat\"></a>\n",
    "\n",
    "A `for` loop is used for iterating over an iterable (e.g., either a `list`, `tuple`, `set`, or `string`). A set of statements is repeated for each element `in` the iterable, until it reaches the end. Note the colon (`:`) at the end of the `for` line, as well as the intentation of the block of statements.\n",
    "\n",
    "    for iterator_var in sequence:\n",
    "        statements(s)\n",
    "\n",
    "### Action\n",
    "Write below the following code and analyse the output:\n",
    "\n",
    "    fruits = [\"apple\", \"banana\", \"cherry\"]\n",
    "    for a_fruit in fruits:\n",
    "        print(a_fruit)"
   ]
  },
  {
   "cell_type": "code",
   "execution_count": 18,
   "metadata": {},
   "outputs": [],
   "source": [
    "# Try here your code!\n"
   ]
  },
  {
   "cell_type": "markdown",
   "metadata": {},
   "source": [
    "What type of iterable is the variable `fruits`?\n",
    "\n",
    "### Action\n",
    "Read and understand the following code. Then, write it down in the cell below without looking at it, and run:\n",
    "\n",
    "    for letter in \"banana\":\n",
    "        print(letter)"
   ]
  },
  {
   "cell_type": "code",
   "execution_count": 17,
   "metadata": {},
   "outputs": [],
   "source": [
    "# Type the code here as you remember it. \n",
    "# For your own benefit: Try not look back at the code! Why? Because mistakes are the base of learning!\n",
    "\n"
   ]
  },
  {
   "cell_type": "markdown",
   "metadata": {},
   "source": [
    "#### Remember:\n",
    "\n",
    "The `for` loop will execute all the <i>indented lines below the </i> `for` <i>line</i>. To indicate the end the loop just remove the indentation in subsequent lines.\n",
    "\n",
    "### Action <span style='background :yellow' > (self-study)</span>\n",
    "Find the total of the summation of the first 100 integers. This has already been solved hundreds of years ago by a school boy without any computer (do you know who did it?).\n",
    "\n",
    "$$y = \\sum_{x=1}^{100}{x}$$\n",
    "\n",
    "The code to solve it is provided below. Read and understand it, and then write it down in the cell below without looking at it. Then run it:\n",
    "    \n",
    "    sum_values = 0\n",
    "    numbers_from_1_to_100 = range(1, 101)\n",
    "\n",
    "    for number in numbers_from_1_to_100:\n",
    "        sum_values = sum_values + number\n",
    "    \n",
    "    print(number)   #?"
   ]
  },
  {
   "cell_type": "code",
   "execution_count": 16,
   "metadata": {},
   "outputs": [],
   "source": [
    "# Type the code here without looking back at it. \n"
   ]
  },
  {
   "cell_type": "markdown",
   "metadata": {},
   "source": [
    "#### Notes\n",
    "- First line: It initialises the variable `sum_values` to `0`. This is required because the first time this variable is used (in line #4), it needs to have a value, otherwise an error will be thrown.\n",
    "- Second line: the iterable for the `for` loop is generated. This is a list. Recall that `range(a,b)` creates sequences between `a` and `b`, excluing `b`.\n",
    "- Third line: The standard `for`-`in` statement. Remember to end it with a colon (`:`).\n",
    "- Fourth line: `sum_values = sum_values + number` can also be written as `sum_values += number`.\n",
    "- Fifth line: this `print` statement is not indented; therefore, it is executed only until the loop is finished. What will happen if this line is indented?\n",
    "- Is the code above giving the right answer? Correct it if necessary."
   ]
  },
  {
   "cell_type": "code",
   "execution_count": 14,
   "metadata": {},
   "outputs": [],
   "source": [
    "#Try your code here:\n"
   ]
  },
  {
   "cell_type": "markdown",
   "metadata": {},
   "source": [
    "\n",
    "### Action\n",
    "\n",
    "Use a `for`-`in` loop structure to workout \n",
    "\n",
    "$$y = \\sum_{x=1}^{100}{x^2}$$"
   ]
  },
  {
   "cell_type": "code",
   "execution_count": 12,
   "metadata": {},
   "outputs": [],
   "source": [
    "#Try your code here:\n"
   ]
  },
  {
   "cell_type": "markdown",
   "metadata": {},
   "source": [
    "## 3.2 The `while` statement <span style='background :yellow' > (self-study)</span><a name=\"while_stat\"></a>\n",
    "With the `while` statement can be used to loop a set of statements as long as a condition is true.\n",
    "\n",
    "For example, print `value` as long as `value` is less than `6`:\n",
    "\n",
    "    value = 1\n",
    "    while value < 6:\n",
    "        print(value)\n",
    "        value += 1\n",
    "        \n",
    "#### Action\n",
    "\n",
    "- Use while-loop structure to find `y`\n",
    "\n",
    "$$y = \\sum_{x=1}^{100}{x^2}$$\n",
    "\n",
    "- Use a while-loop to find how many integers are required to sum up to 10 000"
   ]
  },
  {
   "cell_type": "code",
   "execution_count": 7,
   "metadata": {},
   "outputs": [],
   "source": [
    "# Try here your code!\n"
   ]
  },
  {
   "cell_type": "markdown",
   "metadata": {},
   "source": [
    "### Notes\n",
    "\n",
    "- As in the case of the `for`-`in` loop, the line containing the `while` keyword needs to end with a colon (`:`)\n",
    "- The block of executing code must change the value of the condition, otherwhise the loop will continue forever! In the action above this is done by `i += 1` (or `i = i + 1`).\n",
    "- The `while` loop requires relevant variables to be ready before the loop. In this example we need to define a variable, `i`, which we initially set to `1`."
   ]
  },
  {
   "cell_type": "markdown",
   "metadata": {},
   "source": [
    "## 3.3. List Comprehensions<span style='background :yellow' > (self-study)</span><a name=\"compreh\"></a>\n",
    "List (and sets) comprehensions are a concise way for generating lists (and sets) by loops. For example, to generate a list of the square of the integers from 1 to 10, we can write:\n",
    "    \n",
    "    sq = []\n",
    "    for elem in range(10):\n",
    "        sq.append(elem**2)\n",
    "    print(sq)\n",
    "    \n",
    "Alternatively, using a list comprehension, we can simplify this loop to:\n",
    "    \n",
    "    [elem**2 for elem in range(10)]\n",
    "    \n",
    "Comprehensions are more efficient that loops in Python. While the `for`-`in` loop requires the re-interpretation of the operation line as many times as the loop runs, a comprehension is interpreted in one line. In any case, readability is crucial.\n",
    "\n",
    "### Action\n",
    "\n",
    "In the cell below, print the first 10 integers using a list comprehension."
   ]
  }
 ],
 "metadata": {
  "celltoolbar": "Raw Cell Format",
  "kernelspec": {
   "display_name": "Python 3",
   "language": "python",
   "name": "python3"
  },
  "language_info": {
   "codemirror_mode": {
    "name": "ipython",
    "version": 3
   },
   "file_extension": ".py",
   "mimetype": "text/x-python",
   "name": "python",
   "nbconvert_exporter": "python",
   "pygments_lexer": "ipython3",
   "version": "3.7.4"
  }
 },
 "nbformat": 4,
 "nbformat_minor": 4
}
