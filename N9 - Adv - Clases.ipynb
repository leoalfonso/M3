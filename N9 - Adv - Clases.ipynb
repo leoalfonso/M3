{
 "cells": [
  {
   "cell_type": "markdown",
   "metadata": {},
   "source": [
    "<div>\n",
    "<table style=\"width: 100%\">\n",
    "\t<tr>\n",
    "\t\t<td>\n",
    "\t\t<table style=\"width: 100%\">\n",
    "\t\t\t<tr>\n",
    "                <td ><center><font size=\"30\">WSD - Module 11</font><center>\n",
    "                    <center><font size=\"30\">Topic: Programming</font><center></td>\n",
    "\t\t\t</tr>\n",
    "\t\t\t<tr>\n",
    "                <td><center><font size=\"5\">Jupyter Notebook 9</font><center></td>\n",
    "\t\t\t</tr>\n",
    "\t\t\t<tr>\n",
    "                <td><center><font size=\"10\">Advanced topic - classes</font><center></td>\n",
    "\t\t\t</tr>\n",
    "\t\t</table>\n",
    "\t\t</td>\n",
    "\t\t<td><img src='figures/ihe_logo.png' width=\"200\" height=\"200\"></img></td>\n",
    "\t</tr>\n",
    "</table>\n",
    "</div>    "
   ]
  },
  {
   "cell_type": "markdown",
   "metadata": {},
   "source": [
    "# 1. Objects and Classes\n",
    "\n",
    "Along the course you have been manipulating Python <i>objects</i> such as matplotlib plots and numpy arrays. In fact, every element in Python is actually an object.\n",
    "\n",
    "In this topic we are going to discuss the general characteristics of objects and classes in Pyhton, exploring the syntax and  implementation details.\n",
    "\n",
    "\n",
    "## Defining a class\n",
    "By definition, classes are composed by <i>methods</i> and <i>attributes</i>. Methods, are understood as tasks which are done by the object, while attributes are information that is stored in the object.\n",
    "\n",
    "Classes are defined by using the definition `class` and followed by the parent class in parenthesis, or colon `:`\n",
    "\n",
    "    class MyClass(MyParentClass):\n",
    "    \n",
    "or\n",
    "\n",
    "    class MyClass:\n",
    "    \n",
    "In the process of defining a class, it is necessary to have a <i>constructor</i>. The constructor is a method which will initialise the componenets of the object, once the class is instantiated. The contrusctor in Python is defined as an internal function of name `__init__`, as follows:\n",
    "\n",
    "    def __init__(self):\n",
    "    \n",
    "The definition of the `__init__` method will be called once an object is created using the class. It is possible to initialise an empty class by ending with the argument `pass`\n",
    "\n",
    "    class MyClass:\n",
    "        pass\n",
    "\n",
    "## Defining object attributes\n",
    "\n",
    "Object attributes are always preceeded by the word `self`, indicating that the reference is made to the object to be built, and not to the class. Because of this, variables that are inside the function in the class, but whose name has the `self` syntax, will live as a part of the object, even after the function has finished. Consequently, it is common to avoid the `return` syntax in the methods of the class.\n",
    "\n",
    "    self.my_attribute\n",
    "\n",
    "\n",
    "## Defining methods\n",
    "\n",
    "Methods are fundamentally functions. They allow the object to perform actions, which either modify the object itself (mutation), or generate a result. The methods in the class are defined as regular functions, and it is possible to generate calls to internal methods within the object, by using the syntax `self` before the name of the function.\n",
    "\n",
    "    def my_method(self):\n",
    "\n",
    "Additionally, if the method will be using any of the attributes or methods of the object, it is required that the `self` variable is passed before anything else. Keep in mind that this variable is only used in the scope of the object, and therefore, is not required when is being used.\n",
    "\n",
    "## Private attributes and methods\n",
    "\n",
    "In many prorgamming languages the use of <i>private</i> attributes and methods, -only visible by the object itself, are common. In Python this is not the case, as it is possible to access all of the methods and attributes of the class via the objects. The reason behind private methods and attributes is founded in avoiding confusion and renaming among large data structures, and therefore, avoiding the replacement of other parts of code in large systems. \n",
    "\n",
    "In practice, to avoid this, there is a common agreement in which the private variable names are preceeded by an underscore (`_`). It is also possible to internally change the variable by means of *mangling*, by adding a second underscore (`__`):\n",
    "\n",
    "    object._ClassName__variable_name\n",
    "\n",
    "Private variables are not expected to be accessed by users who are not the developers, as these may dissapear without notice. Therefore, its support between program versions is not guaranteed. In other words, these variables are reserved as implementation details only.\n",
    "\n",
    "## Defining a class, creating objects and using them\n",
    "\n",
    "Let's use the analogy about baking cakes, given in the lecture about objects, to facilitate the comprehension on classes and objects. \n",
    "\n",
    "- Defining a class is like <i>building a baking mold to bake cakes</i>. \n",
    "- Creating an object is like <i>using the mold to bake one or more different cakes, which can have different flavours</i>.\n",
    "- Using, manipulating or accessing an object, is like <i>eating the cake</i>\n",
    "\n",
    "![](figures\\objects.png)\n",
    "\n",
    "## Defining the class (building the baking mold)\n",
    "\n",
    "Below we are defining a class named `Coordinate`. \n",
    "\n",
    "![](figures\\Class_coordinate.png)\n",
    "\n",
    "Check it and explain: 1) what the constructor is doing? 2) how many methods does the class contain?"
   ]
  },
  {
   "cell_type": "code",
   "execution_count": null,
   "metadata": {},
   "outputs": [],
   "source": [
    "import numpy as np\n",
    "\n",
    "# Class definition (making the molde for the cake)\n",
    "class Coordinate:\n",
    "    '''Class definition'''\n",
    "    \n",
    "    def __init__(self, x, y):\n",
    "        '''Class constructor'''\n",
    "        self.x = x\n",
    "        self.y = y\n",
    "    \n",
    "    def distance(self, another_coordobj):\n",
    "        '''Class method'''\n",
    "        return np.sqrt((self.x - another_coordobj.x)**2 + (self.y - another_coordobj.y)**2)"
   ]
  },
  {
   "cell_type": "markdown",
   "metadata": {},
   "source": [
    "We are ready now to instantiating the class:"
   ]
  },
  {
   "cell_type": "markdown",
   "metadata": {},
   "source": [
    "## Instantiating the class (baking cakes)\n",
    "\n",
    "To instantiate a class (and therefore create an object), the syntax will require an assignation as:\n",
    "\n",
    "    my_object = MyClass()\n",
    "    \n",
    "The arguments inside the parenthesis when the class is constructed are passed to the constructor of the class, and therefore they are the arugmnents of the `__init__` function. \n",
    "\n",
    "Below we instantiate two objects (`C` and `origin`) ![](figures\\C_origin_objects.png)"
   ]
  },
  {
   "cell_type": "code",
   "execution_count": null,
   "metadata": {},
   "outputs": [],
   "source": [
    "# Baking the cake using the molde; we add some flavours such as the values x and y:\n",
    "C = Coordinate(3,4)\n",
    "origin = Coordinate(0,0)"
   ]
  },
  {
   "cell_type": "markdown",
   "metadata": {},
   "source": [
    "## Using the objects (eating the cakes)\n",
    "\n",
    "Now that the objects are created, we can use them (eating the cakes). For example, we can use the method in `C` to calculate the distance with respect to the other coordinate set that is in `origin`.\n",
    "\n",
    "![](figures\\eating.png)"
   ]
  },
  {
   "cell_type": "code",
   "execution_count": null,
   "metadata": {},
   "outputs": [],
   "source": [
    "# 'eating' the cake (using the object)\n",
    "d = C.distance(origin)\n",
    "print(d)"
   ]
  },
  {
   "cell_type": "markdown",
   "metadata": {},
   "source": [
    "## Object and class attributes\n",
    "\n",
    "Attributes can be classified in class and object attributes. \n",
    "\n",
    "<i>Class attributes</i> are exposed to all objects created with the class, and therefore, mutating this reference in one of the objects will imply changes in all of the objects which are derived from the same class. \n",
    "\n",
    "<i>Object attributes</i> belong uniquely to the instance of the class (object), and therefore the mutations of its references will only be exposed to itself.\n",
    "\n",
    "The class attributes are defined at a class level, and therefore they are not preceded by the `self` expression. In contrast, the object variables are always preceded by `self`.\n",
    "\n",
    "As an example, let us discuss a class named `UrbanPipe` (please note we use capital letters, and we do not separate words with underscores. This is the practice in the Python community to name classes). This class has several attributes which are passed in the constructor such as `material` and `num_reparations`. Pipes can have other properties that can be stored in a list, such as the `water_flow` at each time of the day. \n",
    "\n",
    "As a first attempt, let's (incorrectly) define these properties as a <i>class attribute</i>, and then let's try to we add new information to one of the pipes."
   ]
  },
  {
   "cell_type": "code",
   "execution_count": null,
   "metadata": {},
   "outputs": [],
   "source": [
    "#Class definition\n",
    "class UrbanPipe:\n",
    "    num_reparations = 0\n",
    "    flow = []\n",
    "    \n",
    "    def __init__(self, material, diameter):\n",
    "        self.mat = material\n",
    "        self.diam = diameter"
   ]
  },
  {
   "cell_type": "code",
   "execution_count": null,
   "metadata": {},
   "outputs": [],
   "source": [
    "#Creating the objects\n",
    "\n",
    "pipe1 = UrbanPipe('PVC', 200)\n",
    "pipe2 = UrbanPipe('Steel', 350)\n",
    "\n",
    "# Let's try to add more information about flows at each hour of the day for pipe1\n",
    "pipe1.flow.append(2.56)\n",
    "pipe1.num_reparations = 1"
   ]
  },
  {
   "cell_type": "markdown",
   "metadata": {},
   "source": [
    "Now let's see which information was stored in both pipe1 and pipe2:"
   ]
  },
  {
   "cell_type": "code",
   "execution_count": null,
   "metadata": {},
   "outputs": [],
   "source": [
    "# print the flows for pipe1 and pipe2\n",
    "print('Pipe 1')\n",
    "print(pipe1.flow)\n",
    "print(pipe1.num_reparations)\n",
    "\n",
    "print('Pipe 2')\n",
    "print(pipe2.flow)\n",
    "print(pipe2.num_reparations)"
   ]
  },
  {
   "cell_type": "markdown",
   "metadata": {},
   "source": [
    "Note that even though we added the flow information only to pipe1, it is also reflected in pipe2, which is not what we want. The number of reparations, however, are correct.\n",
    "\n",
    "This behaviour occurs because we <i>mutated</i> a <i>class attribute</i>, instead of an <i>instance attribute</i>. To correct it, let's turn the class attribute into an <i>instance attribute</i>, by initialising it within the scope of the object contructor (so, inside the `__init__` method)."
   ]
  },
  {
   "cell_type": "code",
   "execution_count": null,
   "metadata": {},
   "outputs": [],
   "source": [
    "#Class definition\n",
    "class UrbanPipe:\n",
    "    num_reparations = 0\n",
    "    \n",
    "    def __init__(self, material, diameter):\n",
    "        self.mat = material\n",
    "        self.diam = diameter\n",
    "        self.flow = []"
   ]
  },
  {
   "cell_type": "code",
   "execution_count": null,
   "metadata": {},
   "outputs": [],
   "source": [
    "#Creating the objects\n",
    "\n",
    "pipe1 = UrbanPipe('PVC', 200)\n",
    "pipe2 = UrbanPipe('Steel', 350)\n",
    "\n",
    "# Let's try to add more information about flows at each hour of the day for pipe1\n",
    "pipe1.flow.append(2.56)"
   ]
  },
  {
   "cell_type": "markdown",
   "metadata": {},
   "source": [
    "Now let's see which information was stored in both pipe1 and pipe2:"
   ]
  },
  {
   "cell_type": "code",
   "execution_count": null,
   "metadata": {},
   "outputs": [],
   "source": [
    "# print the flows for pipe1 and pipe2\n",
    "print('Pipe 1')\n",
    "print(pipe1.flow)\n",
    "print(pipe1.num_reparations)\n",
    "\n",
    "print('Pipe 2')\n",
    "print(pipe2.flow)\n",
    "print(pipe2.num_reparations)"
   ]
  },
  {
   "cell_type": "markdown",
   "metadata": {},
   "source": [
    "Which is correct."
   ]
  },
  {
   "cell_type": "markdown",
   "metadata": {},
   "source": [
    "## Exercise 1\n",
    "\n",
    "Make a class Rectangle.\n",
    "The object from the class Rectangle shold be able to:\n",
    "\n",
    "- Determine if one of its vertices is inside another rectangle (True/False)\n",
    "- Calculate its own area and perimeter\n",
    "- Plot itself, and another rectangle object which are passed as an external optional argument\n",
    "\n",
    "Keep in mind that the constructor of the class should receive the coordinates of two opposite vertices (therefore ensuring it is a rectangle).\n",
    "\n"
   ]
  },
  {
   "cell_type": "code",
   "execution_count": null,
   "metadata": {},
   "outputs": [],
   "source": [
    "\n",
    "    "
   ]
  },
  {
   "cell_type": "markdown",
   "metadata": {},
   "source": [
    "## Exercise 2\n",
    "\n",
    "Make a second class called `CompareRectangles` which analyses geometrical relations between two or more rectangle objects created with the class in Exercise 1. The resulting objects made with `CompareRectangles`, should be able to:\n",
    "\n",
    "- Determine if any of the vertices of any rectangle is within another rectangle (True/False)\n",
    "- Plot the sets of rectangles which are provided, using different colors\n",
    "- Calculate the joint area of the rectangle sets"
   ]
  },
  {
   "cell_type": "code",
   "execution_count": null,
   "metadata": {},
   "outputs": [],
   "source": []
  }
 ],
 "metadata": {
  "kernelspec": {
   "display_name": "Python 3",
   "language": "python",
   "name": "python3"
  },
  "language_info": {
   "codemirror_mode": {
    "name": "ipython",
    "version": 3
   },
   "file_extension": ".py",
   "mimetype": "text/x-python",
   "name": "python",
   "nbconvert_exporter": "python",
   "pygments_lexer": "ipython3",
   "version": "3.7.4"
  }
 },
 "nbformat": 4,
 "nbformat_minor": 4
}
