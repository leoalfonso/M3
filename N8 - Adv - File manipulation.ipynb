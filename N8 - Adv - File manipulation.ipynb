{
 "cells": [
  {
   "cell_type": "markdown",
   "metadata": {},
   "source": [
    "<div>\n",
    "<table style=\"width: 100%\">\n",
    "\t<tr>\n",
    "\t\t<td>\n",
    "\t\t<table style=\"width: 100%\">\n",
    "\t\t\t<tr>\n",
    "                <td ><center><font size=\"30\">WSD - Module 11</font><center>\n",
    "                    <center><font size=\"30\">Topic: Programming</font><center></td>\n",
    "\t\t\t</tr>\n",
    "\t\t\t<tr>\n",
    "                <td><center><font size=\"5\">Jupyter Notebook 8</font><center></td>\n",
    "\t\t\t</tr>\n",
    "\t\t\t<tr>\n",
    "                <td><center><font size=\"10\">Advanced topic - file manipulation</font><center></td>\n",
    "\t\t\t</tr>\n",
    "\t\t</table>\n",
    "\t\t</td>\n",
    "\t\t<td><img src='figures/ihe_logo.png' width=\"200\" height=\"200\"></img></td>\n",
    "\t</tr>\n",
    "</table>\n",
    "</div>    "
   ]
  },
  {
   "cell_type": "markdown",
   "metadata": {},
   "source": [
    "# Table of contents\n",
    "1. [Learning objectives](#learningobs)\n",
    "2. [Introduction](#introduction)\n",
    "2. [Reading data from a file](#reading)\n",
    "3. [Writing data to a file](#data_types)\n",
    "4. [Commands for specific file formats](#data_types)\n",
    "    \n",
    "\n",
    "# 1. Learning objectives<a name=\"learningobs\"></a>\n",
    "\n",
    "- To describe basic Python commands to work with files.\n",
    "- To identify and apply Python commands to read and write data to/from a text file. \n",
    "\n",
    "# 2. Introduction<a name=\"introduction\"></a>\n",
    "Modelling systems use input and ouptut files and, as you will see during your master, manipulating them (i.e., editing, changing, deleting, creating) is a never-ending task for a Hydroinformatician. \n",
    "\n",
    "Automatisation of file handling allows making advanced analysis. For example, you may be interested to know how the outputs of a model vary for a number of different model inputs. This requires modifying the input file, running the model and reading each output that is produced. Although this could be done manually for a couple of runs, it quickly becomes a tedious, error-prone task for many runs. \n",
    "\n",
    "This workbook will help you explore some of the concepts and examples about data manipulation. However, in order to facilitate their practice, most of the exercises will be carried out using Spyder, or another user interfase that will be indicated when time comes.\n",
    "\n",
    "The exercises consists of reading (also known as <i>loading</i>), printing (in screen) and plotting data, using the commands you have seen so far.\n",
    "\n",
    "### Important note: The files that this notebook is using are stored in the subfolder /data_IO, located in the same place as this notebook. Check the files inside this folder.\n",
    "\n",
    "# 3. The `open`  command \n",
    "In order to create, append, read or write a file, we use the `open` command. Every time this command is used, a <i>handle</i> (link) to the file is created and stored in a variable. In the following examples, this variable will be called `fname`, although it is possible to use any other name. After interacting with its contents, the file must be closed. To this end, the `close` command is used.\n",
    "\n",
    "Depending on how the file will be used (mode), additional parameters are included. Check the following table:\n",
    "<img src='figures/file_open.png'></img>\n"
   ]
  },
  {
   "cell_type": "markdown",
   "metadata": {},
   "source": [
    "# 4. Reading data from a file <a name=\"reading\"></a>\n",
    "\n",
    "The idea is to read the contents of a file and store it in a Python variable. Check the following example:\n",
    "\n",
    "## 4.1 Read a file line by line using `readline`\n",
    "\n",
    "Using Python code, read the first line of the text file `Ex1_lines.txt` located in the <b>/data_IO</b> folder. The content of the file is the following:\n",
    "<img src='figures/Ex1_lines.png'></img>\n",
    "\n",
    "The keyword to read a line is `readline()`. Take a look at the code:\n",
    "\n",
    "    fname = open('data_IO/Ex1_lines.txt', 'r')\n",
    "    TheFirstLine = fname.readline()\n",
    "    print(TheFirstLine)\n",
    "    fname.close()\n",
    "\n",
    "#### Notes: \n",
    "- Line 1: The file <i>handle</i> is stored in variable `fname`. The path is also specified here. As we want to extract data from it, the `r` mode (i.e., read) is used.\n",
    "- Line 2: The output of the `readline()` command is stored in the variable `TheFirstLine`.\n",
    "- Line 3: The content of the variable `TheFirstLine` is printed.\n",
    "- Line 4: The file is closed.\n",
    "\n",
    "### Action\n",
    "Read, memorize and understand the code above. Then, try to replicate it in the cell below <b>without looking at the original one!</b>."
   ]
  },
  {
   "cell_type": "code",
   "execution_count": 3,
   "metadata": {},
   "outputs": [
    {
     "name": "stdout",
     "output_type": "stream",
     "text": [
      "This is the first line\n",
      "\n"
     ]
    }
   ],
   "source": [
    "    #Write down the code here, without looking back. Why? Because coding is learned by making mistakes!\n",
    "    \n",
    "    fname = open('data_IO/Ex1_lines.txt', 'r')\n",
    "    TheFirstLine = fname.readline()\n",
    "    print(TheFirstLine)\n",
    "    fname.close()"
   ]
  },
  {
   "cell_type": "markdown",
   "metadata": {},
   "source": [
    "How to read the second line? Just add another line with the `readline` command:"
   ]
  },
  {
   "cell_type": "code",
   "execution_count": 4,
   "metadata": {},
   "outputs": [
    {
     "name": "stdout",
     "output_type": "stream",
     "text": [
      "This is the first line\n",
      "\n",
      "This is line 2\n",
      "\n"
     ]
    }
   ],
   "source": [
    "# try it here:\n",
    "\n",
    "fname = open('data_IO/Ex1_lines.txt', 'r')\n",
    "TheFirstLine = fname.readline()\n",
    "print(TheFirstLine)\n",
    "print(fname.readline())\n",
    "fname.close()"
   ]
  },
  {
   "cell_type": "code",
   "execution_count": 5,
   "metadata": {},
   "outputs": [
    {
     "name": "stdout",
     "output_type": "stream",
     "text": [
      "This is the first line\n",
      "\n",
      "This is line 2\n",
      "\n",
      "This is line 3\n",
      "\n",
      "This is line 4\n",
      "\n",
      "This is the last line\n",
      "\n",
      "\n",
      "\n",
      "\n",
      "\n",
      "\n",
      "\n"
     ]
    }
   ],
   "source": [
    "fname = open('data_IO/Ex1_lines.txt', 'r')\n",
    "TheFirstLine = fname.readline()\n",
    "print(TheFirstLine)\n",
    "print(fname.readline())\n",
    "print(fname.readline())\n",
    "print(fname.readline())\n",
    "print(fname.readline())\n",
    "print(fname.readline())\n",
    "print(fname.readline())\n",
    "print(fname.readline())\n",
    "print(fname.readline())\n",
    "print(fname.readline())\n",
    "print(fname.readline())\n",
    "print(fname.readline())\n",
    "fname.close()"
   ]
  },
  {
   "cell_type": "markdown",
   "metadata": {},
   "source": [
    "## 4.2 Read a file line by line using a loop\n",
    "\n",
    "As you can imagine, the code above is not a very efficient way to read a file, as you would need to write as many `readline` commands as lines contained in the file. Instead, we could use a loop. Check the following action:\n",
    "\n",
    "### Action\n",
    "\n",
    "Check, memorize and replicate (without looking back) the followng code in the cell below:\n",
    "\n",
    "    fname = open('data_IO/Ex1_lines.txt', 'r')\n",
    "    for line in fname:\n",
    "        print(line)\n",
    "    fname.close()\n"
   ]
  },
  {
   "cell_type": "code",
   "execution_count": null,
   "metadata": {},
   "outputs": [],
   "source": [
    "# Type yoru code here\n",
    "fname = open('data_IO/Ex1_lines.txt', 'r')\n",
    "for line in fname:\n",
    "    print(line)\n",
    "fname.close()\n",
    "type(line)\n",
    "    "
   ]
  },
  {
   "cell_type": "markdown",
   "metadata": {},
   "source": [
    "Recall the lesson about loops. We discussed that a `for`-`in` loop iterates over an <i>iterable</i>, such as a list. Note that the handle `fname` can also be used as an iterable.\n",
    "\n",
    "## 4.3 Reading the entire content of the file using the `readlines` command\n",
    "\n",
    "The entire content of a file can also be read without using loops. Instead, use the command `readlines`."
   ]
  },
  {
   "cell_type": "code",
   "execution_count": null,
   "metadata": {},
   "outputs": [],
   "source": [
    "fname = open('data_IO/Ex1_lines.txt', 'r')\n",
    "\n",
    "# Here we are printing all the array which is inside a list\n",
    "print(fname.readlines())\n",
    "\n",
    "fname.close()"
   ]
  },
  {
   "cell_type": "markdown",
   "metadata": {},
   "source": [
    "Note that the content of the file is stored in a single line. Note also that the `\\n` symbol is included at the end of each line. This symbol means <i>next line</i>.\n",
    "\n",
    "Interestingly, the output of the `readlines` command is a `list`, where each line es stored as an element. In the following code, where we are storing the output of the `readlines` command in the variable `lines`, we can access the second line with `lines[1]`:\n",
    "\n",
    "    fname = open('data_IO/Ex1_lines.txt', 'r')\n",
    "    lines = fname.readlines()\n",
    "    print(lines[1])\n",
    "    fname.close()"
   ]
  },
  {
   "cell_type": "code",
   "execution_count": null,
   "metadata": {},
   "outputs": [],
   "source": [
    "fname = open('data_IO/Ex1_lines.txt', 'r')\n",
    "lines = fname.readlines()\n",
    "print(lines[1])\n",
    "fname.close()\n",
    "\n",
    "type(lines)"
   ]
  },
  {
   "cell_type": "markdown",
   "metadata": {},
   "source": [
    "## 4.4. Reading the entire content of the file using the `read` command\n",
    "\n",
    "Alternatively, the command `read` can be used. Check the following code below and replicate it in the next cell.\n",
    "\n",
    "    fname = open('data_IO/Ex1_lines.txt', 'r')\n",
    "    print(fname.read())\n",
    "    fname.close()"
   ]
  },
  {
   "cell_type": "code",
   "execution_count": null,
   "metadata": {},
   "outputs": [],
   "source": [
    "# Replicate the code above without looking back at it.\n",
    "\n",
    "fname = open('data_IO/Ex1_lines.txt', 'r')\n",
    "print(fname.read())\n",
    "fname.close()"
   ]
  },
  {
   "cell_type": "markdown",
   "metadata": {},
   "source": [
    "# 5. The `close` command\n",
    "\n",
    "Note that in all the codes we have seen, the line `fname.close()` has been used at the end. \n",
    "\n",
    "What happens if this line is not used? That, although the code could run and print results, this is a critical mistake that must be avoided.\n",
    "\n",
    "To check why is this critical, let's open again the file `EX1_lines.txt`.\n",
    "\n",
    "    fname = open('data_IO/Ex1_lines.txt', 'r')"
   ]
  },
  {
   "cell_type": "code",
   "execution_count": null,
   "metadata": {},
   "outputs": [],
   "source": [
    "fname = open('data_IO/Ex1_lines.txt', 'r')"
   ]
  },
  {
   "cell_type": "markdown",
   "metadata": {},
   "source": [
    "Let's try to access it using another programme. Using Windows Explorer, locate the file and try to rename it. If the file is the correct one, an error like this will appear:\n",
    "\n",
    "![](figures\\Io_Error.png)\n",
    "\n",
    "To solve this issue, it is necessary to close the file. Please keep in mind that this is a common source of errors. If the file was open by another process (another Python instance/console for example), it will not be possible to read or write this file. \n",
    "\n",
    "Fix the situation by calling the `close()` command. Try it in the cell below:"
   ]
  },
  {
   "cell_type": "code",
   "execution_count": null,
   "metadata": {},
   "outputs": [],
   "source": [
    "# Here we are closing the handle fname.\n",
    "fname.close()\n"
   ]
  },
  {
   "cell_type": "markdown",
   "metadata": {},
   "source": [
    "### Note:\n",
    "In order to avoid errors with file opening and closing, the `with` command is used. It provides a way to open and use a file to perform only a set of (indented) code. Once the block of code is finished, the `with` command will automatically close the file.\n",
    "\n",
    "For this reason, it is strongly recommended to use it, instead of using traditional `open` - `close` commands.\n",
    "\n",
    "### Action\n",
    "\n",
    "Analyse the following code and try to replicate it in the cell below without looking at it.\n",
    "\n",
    "    with open('data_IO/Ex1_lines.txt', 'r') as fname:\n",
    "        for line in fname:\n",
    "            print(line)\n",
    "\n"
   ]
  },
  {
   "cell_type": "code",
   "execution_count": null,
   "metadata": {},
   "outputs": [],
   "source": [
    "with open('data_IO/Ex1_lines.txt', 'r') as fname:\n",
    "    for line in fname:\n",
    "        print(line)"
   ]
  },
  {
   "cell_type": "markdown",
   "metadata": {},
   "source": [
    "# 6. Writing data to a file\n",
    "\n",
    "Similar to reading, writing data follows the same standards. The file is open in writing mode `'w'` and it is has to be closed once it is finished. There are two main interaction modes, write (`'w'`) and append (`'a'`). Writing will rewrite any previous content in the file, while append will add additional lines to the content, enlarging the file.\n",
    "\n",
    "For data writing, instead of the method read, we are going to use the method `write(str)`. This method takes as parameter the string that will be inserted in the file. To add a new line, you should add an end of line character `(\\n)` to indicate that the line is finished. Please keep in mind that you can only write strings into your files.\n",
    "\n",
    "Let us make an example that creates a file with a file with a vector.\n"
   ]
  },
  {
   "cell_type": "code",
   "execution_count": null,
   "metadata": {},
   "outputs": [],
   "source": [
    "# Create the vector that will be written\n",
    "vec = range(10)\n",
    "\n",
    "# Open the file (fname) in write mode, using the with statement\n",
    "with open('files_out\\exercise_file1.txt', 'w') as fname:\n",
    "    # Make a loop to iterate over the elements of the vector\n",
    "    for elem in vec:\n",
    "        # Write each element in a separate line of the file (fname)\n",
    "        fname.writelines(str(elem)+'\\n')\n",
    "        "
   ]
  },
  {
   "cell_type": "markdown",
   "metadata": {},
   "source": [
    "Now, lets take a look in the file that has just been created (`'exercise_file1.txt'`). In this file, all of the elments of the list have been parsed to a different line as we added the end of line character. If the end of line character is not added, the file will be defined as a sequence of characters instead as:"
   ]
  },
  {
   "cell_type": "code",
   "execution_count": null,
   "metadata": {},
   "outputs": [],
   "source": [
    "# Create the vector that will be written\n",
    "vec = range(10)\n",
    "\n",
    "# Open the file (fname) in write mode, using the with statement\n",
    "with open('files_out\\exercise_file2.txt', 'w') as fname:\n",
    "    # Make a loop to iterate over the elements of the vector\n",
    "    for elem in vec:\n",
    "        # Write each element in a separate line of the file (fname)\n",
    "        fname.writelines(str(elem))"
   ]
  },
  {
   "cell_type": "markdown",
   "metadata": {},
   "source": [
    "Now take a look at the file that has just been created (`'exercise_file2.txt'`). Here you will see that the elements were set one next to the other, as it was literally instructed.\n",
    "\n",
    "# Operations with regular formats\n",
    "\n",
    "The examples presented above are a very low-level way of interacting with arbitrary files. In many cases, the format of the files will be known, and therefore, it is possible to access its content in a systematic way. Many of the common data formats includes XLS, CSV, JSON (in fact, this Jupyter Notebook is a JSON file), XML, HTML, netCDF, etc. For many of this formats there are libraries which are able to parse the data directly, avioding building your own, and allowing operations such as compression. Consider that there are specialised libraries to read and write each type of file format.\n",
    "\n",
    "For common data types, `numpy` and `scipy` libraries have a vast collection of functions which allows to parse data into  `numpy.array`, from which is possible to use. The uses include further data processing, and visualisation, among others. As an example, lets use `numpy` to open the file `data_IO\\csv_example.csv`, using the `loadtxt` function."
   ]
  },
  {
   "cell_type": "code",
   "execution_count": null,
   "metadata": {},
   "outputs": [],
   "source": [
    "# load the numpy library\n",
    "import numpy as np\n",
    "\n",
    "# Load the csv values into the variable data\n",
    "data = np.loadtxt('data_IO\\csv_example.csv')\n",
    "\n",
    "# Visualise the results\n",
    "print(data)"
   ]
  },
  {
   "cell_type": "markdown",
   "metadata": {},
   "source": [
    "It is possible to observe that here we are not opening or closing the file. This occurs because the `np.loadtxt` function is taking care of those operations directly, and we are only asked to provide the path to the file.\n",
    "\n",
    "In the same form, it is possible to write files using the `np.savetxt` function. The behaviour is quite similar, only with the condition that we have to specify where we will be saving the data, as well as the variable that we are going to save. Please keep in mind that this is only possible for variables which are `np.array`, or that can be turn into it. \n",
    "\n",
    "let us try to write into the file `'my_new_data.txt'` a squared matrix (`matrix_a`) as:"
   ]
  },
  {
   "cell_type": "code",
   "execution_count": null,
   "metadata": {},
   "outputs": [],
   "source": [
    "# Create the matrix to be saved\n",
    "matrix_a = np.array([[1,2],[3,4]])\n",
    "\n",
    "# Define the name of the target file where the matrix will be saved\n",
    "fname = 'files_out\\my_new_data.txt'\n",
    "\n",
    "# Save the matrix in text format\n",
    "np.savetxt(fname, matrix_a)"
   ]
  },
  {
   "cell_type": "markdown",
   "metadata": {},
   "source": [
    "Furthermore, it is possible not to save the results of numerical variables into text files, but into formats which are much more efficient for the machine to read and write. For the particular case of `numpy` we can save files in the format `.npy`. Fundamentally, the files are loaded and save in a similar manner as:\n",
    "\n"
   ]
  },
  {
   "cell_type": "code",
   "execution_count": null,
   "metadata": {},
   "outputs": [],
   "source": [
    "# Create the matrix to be saved\n",
    "matrix_a = np.array([[1,2],[3,4]])\n",
    "\n",
    "# Define the name of the target file where the matrix will be saved\n",
    "fname = 'files_out\\my_new_data.npy'\n",
    "\n",
    "# Save the matrix in text format\n",
    "np.save(fname, matrix_a)\n",
    "\n",
    "# load the data into matrix b\n",
    "matrix_b = np.load(fname)\n",
    "\n",
    "print(matrix_b)"
   ]
  },
  {
   "cell_type": "markdown",
   "metadata": {},
   "source": [
    "Due to the charactheristics of the `numpy` library, it is only suited for saving sequences of numbers, so it is not versatile to write specific file types. Additioanally, it is not possible to save other objectes which are not convertible to `np.array` types. Therefore, it is not possible to save objects, functions, dictionaries, strings, etc.\n",
    "\n",
    "As alternative, the \"Pythonic\" way for saving objects is the `pickle` format. This format allows to save most of python objects, while being extremely efficient in memory. As example, we are going to save a custom list (which cannot be turn into a `numpy` array) into a file, and then we can retrieve it back"
   ]
  },
  {
   "cell_type": "code",
   "execution_count": null,
   "metadata": {},
   "outputs": [],
   "source": [
    "# import the cPickle module. Mind the capitalisation of the word\n",
    "import pickle\n",
    "\n",
    "# Create my custom list\n",
    "custom_list = ['cat', 'dog', 1, 2, np.sin]\n",
    "\n",
    "# Define the path to the file where im saving my file\n",
    "fname = 'files_out\\my_pickle_file.pkl'\n",
    "\n",
    "# Save the list in the pickle format suing the dump command\n",
    "pickle.dump(custom_list, open(fname, 'wb'))\n",
    "\n",
    "# Load the list into another file\n",
    "custom_list_2 = pickle.load(open(fname, 'rb'))\n",
    "\n",
    "# print the loaded list\n",
    "print(custom_list_2)"
   ]
  },
  {
   "cell_type": "markdown",
   "metadata": {},
   "source": [
    "The `pickle` library uses handles to the files, which is similar to the python way of dealing with files (manually opening and closing). Here in this point we show yet another altenative to carry out this task in a safe way. As we are not going to use the file further than in the specific save and load functions, we can pass the constructor of the handle (`open(fname, 'rb')`) directly as a function argument, and therefore, it will end together with the function. If the handle is declared beforehand, it will not end together with the function and has to be explicitly closed (which is not necessarily a good practice). Therefore, we can also use a similar syntax as we did in the begging of the session as:\n"
   ]
  },
  {
   "cell_type": "code",
   "execution_count": null,
   "metadata": {},
   "outputs": [],
   "source": [
    "# Create my custom list\n",
    "custom_list = ['cat', 'dog', 1, 2, np.sin]\n",
    "\n",
    "# Define the path to the file where im saving my file\n",
    "fname = 'files_out\\my_pickle_file.pkl'\n",
    "\n",
    "# Note that the file is open in write mode\n",
    "with open(fname, 'wb') as handle:\n",
    "    # Save the list in the pickle format suing the dump command\n",
    "    pickle.dump(custom_list, handle)\n",
    "\n",
    "# Note that the file is open in read mode \n",
    "with open(fname, 'rb') as handle:   \n",
    "    # Load the list into another file\n",
    "    custom_list_2 = pickle.load(handle)\n",
    "\n",
    "# print the loaded list\n",
    "print(custom_list_2)"
   ]
  },
  {
   "cell_type": "code",
   "execution_count": null,
   "metadata": {},
   "outputs": [],
   "source": [
    "\n",
    "import tkinter as tk\n",
    "from tkinter import filedialog\n",
    "\n",
    "root = tk.Tk()\n",
    "root.withdraw()\n",
    "\n",
    "file_path = filedialog.askopenfilename()\n",
    "\n",
    "\n",
    "\n",
    "\n",
    "\n",
    "\n",
    "\n",
    "\n",
    "\n",
    "\n",
    "\n"
   ]
  }
 ],
 "metadata": {
  "kernelspec": {
   "display_name": "Python 3",
   "language": "python",
   "name": "python3"
  },
  "language_info": {
   "codemirror_mode": {
    "name": "ipython",
    "version": 3
   },
   "file_extension": ".py",
   "mimetype": "text/x-python",
   "name": "python",
   "nbconvert_exporter": "python",
   "pygments_lexer": "ipython3",
   "version": "3.7.4"
  }
 },
 "nbformat": 4,
 "nbformat_minor": 4
}
