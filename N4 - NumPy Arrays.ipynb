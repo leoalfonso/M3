{
 "cells": [
  {
   "cell_type": "markdown",
   "metadata": {},
   "source": [
    "<div>\n",
    "<table style=\"width: 100%\">\n",
    "\t<tr>\n",
    "\t\t<td>\n",
    "\t\t<table style=\"width: 100%\">\n",
    "\t\t\t<tr>\n",
    "                <td ><center><font size=\"30\">WSD - Module 11</font><center>\n",
    "                    <center><font size=\"30\">Topic: Programming</font><center></td>\n",
    "\t\t\t</tr>\n",
    "\t\t\t<tr>\n",
    "                <td><center><font size=\"5\">Jupyter Notebook 4</font><center></td>\n",
    "\t\t\t</tr>\n",
    "\t\t\t<tr>\n",
    "                <td><center><font size=\"10\">Numpy Arrays<span style='background :yellow' > (self-study)</span></font><center></td>\n",
    "\t\t\t</tr>\n",
    "\t\t</table>\n",
    "\t\t</td>\n",
    "\t\t<td><img src='figures/ihe_logo.png' width=\"200\" height=\"200\"></img></td>\n",
    "\t</tr>\n",
    "</table>\n",
    "</div>    "
   ]
  },
  {
   "cell_type": "markdown",
   "metadata": {},
   "source": [
    "# Table of contents\n",
    "1. [Learning objectives](#learningobs)\n",
    "2. [NumPy arrays](#numpy_arrays)\n",
    "\n",
    "\n",
    "# 1. Learning objectives<a name=\"learningobs\"></a>\n",
    "\n",
    "At the end of this session you will be able to:\n",
    "- Explain what a NumPy Aarray is\n",
    "- Create, access and apply different methods to NumPy arrays."
   ]
  },
  {
   "cell_type": "markdown",
   "metadata": {},
   "source": [
    "# 2. NumPy arrays<a name=\"numpy_arrays\"></a>\n",
    "\n",
    "## 2.1. Description\n",
    "`NumPy` (Numerical Python) is the fundamental package for scientific computing in Python. You may recall that we used it in our first lesson to retrieve the value of $\\pi$ and to use math functions such as `sqrt()` and `sin()`. We also saw that, in order to use it, it needs to be imported first using `import numpy as `{<i>name</i>}, where {<i>name</i>} can be any string. However, we will always use `np` as {<i>name</i>}, because this is a widely adopted convention that we should follow. \n",
    "\n",
    "Apart from these basic math operations (and more foun at https://numpy.org/doc/stable/user/whatisnumpy.html), `NumPy` provides a multidimensional array type (`ndarray`), with methods that allow for fast operations on arrays.\n",
    "\n",
    "## 2.2. Creating NumPy arrays\n",
    "Remember to first `import numpy as np` to be able to use all NumPy functions and types."
   ]
  },
  {
   "cell_type": "code",
   "execution_count": null,
   "metadata": {},
   "outputs": [],
   "source": [
    "import numpy as np"
   ]
  },
  {
   "cell_type": "markdown",
   "metadata": {},
   "source": [
    "The following line creates a (,3) array (a vector of three elements, or, in other words, a matrix with 1 row and 3 columns):"
   ]
  },
  {
   "cell_type": "code",
   "execution_count": null,
   "metadata": {},
   "outputs": [],
   "source": [
    "a = np.array([1,2,3])"
   ]
  },
  {
   "cell_type": "markdown",
   "metadata": {},
   "source": [
    "The following line creates a (2, 3) array (a matrix of two rows and three columns):"
   ]
  },
  {
   "cell_type": "code",
   "execution_count": null,
   "metadata": {},
   "outputs": [],
   "source": [
    "b = np.array([[1,2,3], [1,2,3]])"
   ]
  },
  {
   "cell_type": "markdown",
   "metadata": {},
   "source": [
    "### Action:\n",
    "\n",
    "Note that when you run the cells above you do not get an output. Modify them, adding the print() function, to check the arrays."
   ]
  },
  {
   "cell_type": "markdown",
   "metadata": {},
   "source": [
    "<p style=\"border:3px; border-style:solid; border-color:#FF0000; padding: 1em;\">A common source of confusion is the difference between <b>numpy.array</b> and <b>numpy.ndarray</b>. <br>Basically, <b>numpy.array</b> is a <i>function</i> that returns a variable of type <b>numpy.ndarray</b></p>\n",
    "\n",
    "So, for the examples above, both `type(a)` and `type(b)` will return `numpy.ndarray`."
   ]
  },
  {
   "cell_type": "markdown",
   "metadata": {},
   "source": [
    "## 2.3. Array operations \n",
    "`ndarrays` allows for carrying out complex mathematical operations that are not straightforward with lists or tuples. For example, given arrays `a` and `b`, valid element-wise oprerations are:\n",
    "\n",
    "    a + a\n",
    "    a + b\n",
    "    a * b\n",
    "    a / b\n",
    "\n",
    "Similarly, linear algebra operations can be carried out using `numpy` library functions, such as:\n",
    "\n",
    "    np.transpose(b)  # Transpose of the matrix b (or, in a simplified form: b.T)\n",
    "    np.dot(a, b.T)   # Dot product of two arrays\n",
    "    \n",
    "\n",
    "### Action\n",
    "In the cell below:\n",
    "- Create the lists `x=[1,2,3]` and `y=[3,4,5]` \n",
    "\n",
    "Summing up all the elements of the list `x` with the corresponding elements of the list `y` (pair-wise sum) using lists is, unfortunately, not so trivial. However, we can use `ndarrays`.\n",
    "\n",
    "- Create the `ndarrays` `c` and `d` out of the lists `x` and `y` as explained in section 3.2.\n",
    "- Do the same pair-wise sum between `c` and `d`\n",
    "- Explore other NumPy arrays operations described above\n"
   ]
  },
  {
   "cell_type": "code",
   "execution_count": null,
   "metadata": {},
   "outputs": [],
   "source": [
    "# Type here your code\n"
   ]
  },
  {
   "cell_type": "markdown",
   "metadata": {},
   "source": [
    "<b>Notes</b>: \n",
    "- The number of dimensions of an array is known as the <i>rank</i> of the array. \n",
    "- The `shape` of an array is a `tuple` of integers representing the size of the array along each dimension.\n",
    "- Arrays can have an unlimited number of dimensions."
   ]
  },
  {
   "cell_type": "markdown",
   "metadata": {},
   "source": [
    "## 2.4. Commands to create arrays \n",
    "\n",
    "`numpy` provides many functions to create arrays in different convenient ways:\n",
    "\n",
    "    a = np.zeros((2,2))\n",
    "    b = np.ones((1,2))\n",
    "    c = np.full((2,2), 7)\n",
    "    d = np.eye(2)\n",
    "    e = np.random.random((2,2))\n",
    "\n",
    "#### Action:\n",
    "Try the lines of code above, one by one, in the cell below, followed by a corresponding `print` statement. Try to understand yourself the obtained outcomes. After understanding each line, add a comment in front of each line for your future reference. (use the `#` to add a comment). An example is provided for the first line."
   ]
  },
  {
   "cell_type": "code",
   "execution_count": null,
   "metadata": {},
   "outputs": [],
   "source": [
    "# Try your code here:\n",
    "a = np.zeros((2,2))  # Creates an array of 2x2 where all elements are zeros.\n",
    "print(a)"
   ]
  },
  {
   "cell_type": "markdown",
   "metadata": {},
   "source": [
    "## 2.5. Array indexing\n",
    "\n",
    "Array indexing is about using square brackets (`[]`) to refer to a position of one or more elements in the array. Let's consider the following matrix:\n",
    "\n",
    "$$a = \\begin {bmatrix}\n",
    "    1 & 2 & 3 & 4\\\\\n",
    "    5 & 6 & 7 & 8\\\\\n",
    "    9 & 10 & 11 & 12\\\\\n",
    "    \\end{bmatrix}$$\n",
    "    \n",
    "    \n",
    "We saw before that we can create it using the `np.array` function as follows:\n",
    "\n",
    "    a = np.array([[1,2,3,4], [5,6,7,8], [9,10,11,12]])\n",
    "    \n",
    "To access elements we use indexing, in a similar way to Python lists. For example, the element with value `7`, located in the <b>second row and third column </b>of `a`, is accessed as:\n",
    "\n",
    "    a[1,2]\n",
    "    \n",
    "A very common mistake is to use `a[2,3]`. Why is this wrong? Because, as in sequences, <b>the indexes start from `0`, not from `1` </b>.\n",
    "\n",
    "Note also that the notation is always <b>[ row, column ]</b>."
   ]
  },
  {
   "cell_type": "code",
   "execution_count": null,
   "metadata": {},
   "outputs": [],
   "source": [
    "# Try your code here\n",
    "\n",
    "import numpy as np\n",
    "np.sqrt(2)\n"
   ]
  },
  {
   "cell_type": "markdown",
   "metadata": {},
   "source": [
    "Note that `y=np.array([3,4,5])` will produce the row vector\n",
    "\n",
    "    [3 4 5]\n",
    "\n",
    "whereas `y=np.array([[3,4,5]])` will produce the column vector\n",
    "\n",
    "The first we cannot transpose, but the second we can.\n",
    "\n",
    "`y.T` yields:\n",
    "\n",
    "    [[3]\n",
    "     [4]\n",
    "     [5]]\n"
   ]
  },
  {
   "cell_type": "code",
   "execution_count": null,
   "metadata": {},
   "outputs": [],
   "source": [
    "y=np.array([[3,4,5]])\n",
    "print(y.T)"
   ]
  },
  {
   "cell_type": "markdown",
   "metadata": {},
   "source": [
    "## 2.6. Slicing\n",
    "Slicing is a methodological way to access subsets of data, and it can be done for different data types. We will see here NumPy array slicing, which uses combinations of indexes, square brackets (`[]`), commas (`,`) and colons (`:`). In particular, <b>commas</b> are used to specify the dimension we are interested on, and <b>colons</b> to indicate the start and end of a \"slide\". \n",
    "\n",
    "Observe the following slicing expressions applied to the array `a` created above:\n",
    "    \n",
    "`a[:]` (equivalent to `a[:,:]`) will return:\n",
    "\n",
    "    [[ 1  2  3  4]\n",
    "     [ 5  6  7  8]\n",
    "     [ 9 10 11 12]]     this is, retrieve all the elements of the array.\n",
    "     \n",
    "    \n",
    "`a[1:]` (equivalent to `a[1:,:]`), will return:\n",
    "\n",
    "    [[ 5  6  7  8]\n",
    "     [ 9 10 11 12]]     this is, starting in row with index 1 (the second one), retrieve all the columns.\n",
    "     \n",
    "     \n",
    "However, `a[1]`, (which is equivalent to `a[1,:]`) will return:\n",
    "\n",
    "    [5 6 7 8]           this is, retrieve all the columns of the row with index 1 (the second row).\n",
    "    \n",
    "    \n",
    "\n",
    "and `a[:,1]` will return\n",
    "\n",
    "    [ 2  6 10]          this is, retrieve all the rows of the column with index 1 (the second column).\n",
    "    \n",
    "\n",
    "Note that `a[-1]`, (which is equivalent to `a[-1,:]`) will return:\n",
    "\n",
    "    [ 9 10 11 12]       this is, retrieve all columns of the last row.\n",
    "    \n",
    "\n",
    "Similarly, `a[:,-1]` will return\n",
    "    \n",
    "    [4  8 12]           this is, retrieve all the rows of the last column.\n",
    "    \n",
    "\n",
    "Also, `a[:-1]` (which is equivalent to `a[:-1,:])`, will return:\n",
    "\n",
    "    [[1 2 3 4]\n",
    "     [5 6 7 8]]         this is, retrieve all columns of all rows but the last.\n",
    "     \n",
    "     \n",
    "The expression, `a[:,1:3]`, will retrieve:\n",
    "\n",
    "    [[ 2  3]\n",
    "     [ 6  7]\n",
    "     [10 11]]      retrieve all rows starting from the second column (index 1) to the third (index 3).  \n",
    "\n",
    "\n",
    "The use of more than two colons suggests that some elements are skipped. For example, the expression `a[0:4:2]` (how else can it be written?) yields:\n",
    "\n",
    "    [[ 1  2  3  4]\n",
    "     [ 9 10 11 12]]   \n",
    "     \n",
    "     Retrieve all columns. From the first row (0), until (not including) the fourth (4) one, skip every other file (2).\n",
    "     \n",
    "\n",
    "Another example: The expression `a[:,0:4:2]` yields:\n",
    "\n",
    "    [[ 1  3]\n",
    "     [ 5  7]\n",
    "     [ 9 11]]     \n",
    "     \n",
    "     Retrieve all rows. From the first column (0), until (not including) the fourth (4) one, skip every other column (2).\n",
    "     \n",
    "\n",
    "### Action\n",
    "Using the same matrix `a` defined above, try the following line in the cell below and explain the output.\n",
    "\n",
    "    b = a[:2, 1:3]\n",
    "    "
   ]
  },
  {
   "cell_type": "code",
   "execution_count": null,
   "metadata": {},
   "outputs": [],
   "source": [
    "# Try your code here\n",
    "a = np.array([[1,2,3,4], [5,6,7,8], [9,10,11,12]])\n",
    "print(a)\n",
    "\n",
    "print(a.T)\n",
    "\n",
    "b = np.array([1,2,3,4,5,6,7,8])\n",
    "print(b.T)"
   ]
  },
  {
   "cell_type": "markdown",
   "metadata": {},
   "source": [
    "As you see, a sliced array is like viewing the data through a reduced window of a particular shape. <b>Note: If the sliced array is modified, the original array is also modified</b>. See the example below.\n",
    "\n",
    "### Action\n",
    "Explain the outputs of the code below. Note that `b` is defined as a slice of `a` (`b= a[:2, 1:3]`); Therefore, `b` is a \"window\" that can <i>see</i> part of the original matrix `a`. Which part?\n",
    "\n",
    "    a = np.array([[1,2,3,4], [5,6,7,8], [9,10,11,12]])\n",
    "    b= a[:2, 1:3]\n",
    "    print(b)\n",
    "    b[0, 0] = 77\n",
    "    print(a)"
   ]
  },
  {
   "cell_type": "code",
   "execution_count": null,
   "metadata": {},
   "outputs": [],
   "source": [
    "#Try your code here:\n"
   ]
  },
  {
   "cell_type": "markdown",
   "metadata": {},
   "source": [
    "Matrices and arrays will be largely used in the coming lessons. Further details on slicing can be found at https://docs.scipy.org/doc/numpy-1.13.0/reference/arrays.indexing.html"
   ]
  }
 ],
 "metadata": {
  "kernelspec": {
   "display_name": "Python 3",
   "language": "python",
   "name": "python3"
  },
  "language_info": {
   "codemirror_mode": {
    "name": "ipython",
    "version": 3
   },
   "file_extension": ".py",
   "mimetype": "text/x-python",
   "name": "python",
   "nbconvert_exporter": "python",
   "pygments_lexer": "ipython3",
   "version": "3.7.4"
  }
 },
 "nbformat": 4,
 "nbformat_minor": 4
}
