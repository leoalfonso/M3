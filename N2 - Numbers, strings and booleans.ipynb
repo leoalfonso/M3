{
 "cells": [
  {
   "cell_type": "markdown",
   "metadata": {},
   "source": [
    "<div>\n",
    "<table style=\"width: 100%\">\n",
    "\t<tr>\n",
    "\t\t<td>\n",
    "\t\t<table style=\"width: 100%\">\n",
    "\t\t\t<tr>\n",
    "                <td ><center><font size=\"30\">WSD - Module 11</font><center>\n",
    "                    <center><font size=\"30\">Topic: Programming</font><center></td>\n",
    "\t\t\t</tr>\n",
    "\t\t\t<tr>\n",
    "                <td><center><font size=\"5\">Jupyter Notebook 2</font><center></td>\n",
    "\t\t\t</tr>\n",
    "\t\t\t<tr>\n",
    "                <td><center><font size=\"10\">Numbers, strings and booleans</font><center></td>\n",
    "\t\t\t</tr>\n",
    "\t\t</table>\n",
    "\t\t</td>\n",
    "\t\t<td><img src='figures/ihe_logo.png' width=\"200\" height=\"200\"></img></td>\n",
    "\t</tr>\n",
    "</table>\n",
    "</div>    "
   ]
  },
  {
   "cell_type": "markdown",
   "metadata": {},
   "source": [
    "# Table of contents\n",
    "1. [Learning objectives](#learningobs)\n",
    "2. [Numbers](#numbers)\n",
    "3. [Strings](#strings)\n",
    "4. [Booleans](#booleans)\n",
    "\n",
    "\n",
    "## 1. Learning objectives<a name=\"learningobs\"></a>\n",
    "\n",
    "At the end of this session you will be able to:\n",
    "- Identify the main data types used in Python\n",
    "- List the differences among the different data types\n",
    "- Access and modify (when possible) data from the different types of variables\n",
    "\n",
    "\n",
    "## 2. Numbers<a name=\"numbers\"></a>\n",
    "\n",
    "The main types used for numbers are Integer (`int`), Floating point (`float`) and Complex (`complex`). Examples:\n",
    "\n",
    "    int\n",
    "    a = 10\n",
    "\n",
    "    float\n",
    "    a = 10.0\n",
    "\n",
    "    complex\n",
    "    a = 10.0+0j\n",
    "\n",
    "### Action\n",
    "Type each of the previous numbers in the cell below and retrieve its data type by using the `type` command."
   ]
  },
  {
   "cell_type": "code",
   "execution_count": null,
   "metadata": {},
   "outputs": [],
   "source": [
    "# Type your code here!\n"
   ]
  },
  {
   "cell_type": "markdown",
   "metadata": {},
   "source": [
    "\n",
    "## 3. Strings<a name=\"strings\"></a>\n",
    "\n",
    "Strings are a sequence of characters. A string variable only requires that the value that is being assigned is between quotes, both single (`'`) or double (`\"`). For example:\n",
    "\n",
    "    a = '10'\n",
    "    a = \"10\"\n",
    "\n",
    "In this case, the value of `a` is not the <i> numerical value</i> `10`, but instead the sequence of characters `1` and `0`.\n",
    "\n",
    "### Action\n",
    "\n",
    "Type the following in the cell below:\n",
    "\n",
    "    a = '10'\n",
    "    a + 2"
   ]
  },
  {
   "cell_type": "code",
   "execution_count": null,
   "metadata": {},
   "outputs": [],
   "source": [
    "# Type your code here!\n"
   ]
  },
  {
   "cell_type": "markdown",
   "metadata": {},
   "source": [
    "As you can see, `a + 2` will result in a <i>type</i> error: `TypeError: can only concatenate str (not \"int\") to str`. \n",
    "\n",
    "Note the following:\n",
    " - It is not possible to execute the `+` operation between objects of different types;\n",
    " - If `a` was a number, then `+` would perform the summation `10+2`=`12`; \n",
    " - If the number `2` would have been instead the string `'2'`, then `+` would perform a <i>concatenation</i>, i.e., an operation that <i>glues</i> the strings `'10'` and `'2'` together, resulting in the sequence of characters `'102'`.\n",
    "\n",
    "### Action\n",
    "What happens if we use `2.0` instead of `2` in the expression `10+2`? Feel free to experiment these expressions in the same cell below."
   ]
  },
  {
   "cell_type": "code",
   "execution_count": null,
   "metadata": {},
   "outputs": [],
   "source": [
    "# Type your code here!\n"
   ]
  },
  {
   "cell_type": "markdown",
   "metadata": {},
   "source": [
    "### Action\n",
    "Try the following in the cell below:\n",
    "\n",
    "`a = '10'\n",
    "b = ' is a number'\n",
    "a + b\n",
    "a * 2`"
   ]
  },
  {
   "cell_type": "code",
   "execution_count": null,
   "metadata": {},
   "outputs": [],
   "source": [
    "# Type your code here!\n"
   ]
  },
  {
   "cell_type": "markdown",
   "metadata": {},
   "source": [
    "It is possible to see all of the methods (i.e., the actions we could do) with `str` objects in the documentation [here](https://www.programiz.com/python-programming/methods/string).\n",
    "\n",
    "### Action\n",
    "Try this in the cell below:\n",
    "\n",
    "`c = 'alfonso'\n",
    "c.capitalize()`"
   ]
  },
  {
   "cell_type": "code",
   "execution_count": null,
   "metadata": {},
   "outputs": [],
   "source": [
    "# Type your code here!\n"
   ]
  },
  {
   "cell_type": "markdown",
   "metadata": {},
   "source": [
    "## 3.1 The `format` command <span style='background :yellow' > (self-study)</span>\n",
    "It is possible to create custom messages mixing text and numerical values. We do this with the `format` method. \n",
    "### Action\n",
    "Run the cells below and analyse the outputs carefully:"
   ]
  },
  {
   "cell_type": "code",
   "execution_count": null,
   "metadata": {},
   "outputs": [],
   "source": [
    "\"My name is {a_name}, I'm {an_age}, I am from {a_nation}\".format(a_name = \"Sonal\", an_age = 36, a_nation = \"India\")"
   ]
  },
  {
   "cell_type": "code",
   "execution_count": null,
   "metadata": {},
   "outputs": [],
   "source": [
    "\"My name is {0}, I'm {1}, I am from {2}\".format(\"Sonal\", 36, \"India\")"
   ]
  },
  {
   "cell_type": "code",
   "execution_count": null,
   "metadata": {},
   "outputs": [],
   "source": [
    "#Use \",\" to add a comma as a thousand separator:\n",
    "txt = \"The universe is {:,} years old.\"\n",
    "print(txt.format(13800000000))"
   ]
  },
  {
   "cell_type": "markdown",
   "metadata": {},
   "source": [
    "In the previous cell, note the following:\n",
    " - we are using a variable to store the resulting string (`txt`, although it can have any other name)\n",
    " - we are applying the format to the variable `txt`\n",
    " - most formatting options can be defined with the combination `{: something}`. In the example above, we have added a colon `:` inside the curly brackets and then, at its right hand side, we are specifying a particular format, in this case the thousands separator using the comma `,`.\n",
    " \n",
    "Run the cell below:"
   ]
  },
  {
   "cell_type": "code",
   "execution_count": null,
   "metadata": {},
   "outputs": [],
   "source": [
    "txt = \"The water level is {:.2f} meters.\"\n",
    "print(txt.format(45))"
   ]
  },
  {
   "cell_type": "markdown",
   "metadata": {},
   "source": [
    "So, at the right hand side of `:`, use `.n` to display the value with `n` decimals, and `f` to convert a number into a fixed point number.\n",
    "\n",
    "Without the `.2` inside the placeholder, this number will be displayed with six decimal places (by default):"
   ]
  },
  {
   "cell_type": "code",
   "execution_count": null,
   "metadata": {},
   "outputs": [],
   "source": [
    "txt = \"The water level is {:f} meters.\"\n",
    "print(txt.format(45))"
   ]
  },
  {
   "cell_type": "markdown",
   "metadata": {},
   "source": [
    "## Excercise 1\n",
    "Explain how the `format` command is being used in the last three lines of the code below. Look at the outputs they generate. Insert a new Markdown cell after the code and write there your explanation. "
   ]
  },
  {
   "cell_type": "code",
   "execution_count": null,
   "metadata": {
    "scrolled": true
   },
   "outputs": [],
   "source": [
    "import time\n",
    "print('The current minute is {0}'.format(time.localtime().tm_min))\n",
    "\n",
    "a = 12345.54321\n",
    "\n",
    "print('a = ', a)\n",
    "\n",
    "# Explain briefly these three lines:\n",
    "print('Displaying a with two decimals: {:.2f}'.format(a))\n",
    "print('Displaying a in a string of 10 characters in total {0:010.2f}'.format(12345.54321))\n",
    "print('Put two strings in one sentence, like: {0} and {1}'.format('this', 'THIS'))"
   ]
  },
  {
   "cell_type": "markdown",
   "metadata": {},
   "source": [
    "Note that in the previous exercise, the `time` library was imported. It provides several functions to work with time operators and formats. "
   ]
  },
  {
   "cell_type": "markdown",
   "metadata": {},
   "source": [
    "A convenient resource for understading Python formatting can be found [here](https://pyformat.info/).\n",
    "\n",
    "## Exercise 2\n",
    "\n",
    "Given the points $p_1 =(x_1, y_1)$ and $p_2 =(x_2, y_2)$, with coordinates (in meters) $x_1 = 13.0$, $x_2 = 15.0$, $y_1 = 35.0$, and $y_2 = 40.0$, complete and display the following string: \n",
    "\n",
    "'The distance between p1 and p2 is `___m` and `___cm`.'\n"
   ]
  },
  {
   "cell_type": "markdown",
   "metadata": {},
   "source": [
    "## 3.2 Special characters <span style='background :yellow' > (self-study)</span>\n",
    "\n",
    "When using strings, there are some special characters that will trigger particular behaviours of the string. As we just saw, the use of `{}` will create a placeholder for arguments using the format method. These characters are known as escape characters.\n",
    "\n",
    "    \\n\tBackslash and newline ignored\t \n",
    "    \\\\\tBackslash (\\)\t \n",
    "    \\'\tSingle quote (')\t \n",
    "    \\\"\tDouble quote (\")\t \n",
    "    \\a\tASCII Bell (BEL)\t \n",
    "    \\b\tASCII Backspace (BS)\t \n",
    "    \\f\tASCII Formfeed (FF)\t \n",
    "    \\n\tASCII Linefeed (LF)\t \n",
    "    \\r\tASCII Carriage Return (CR)\t \n",
    "    \\t\tASCII Horizontal Tab (TAB)\t \n",
    "    \\v\tASCII Vertical Tab (VT)\t \n",
    "    \\ooo\tCharacter with octal value ooo\t(1,3)\n",
    "    \\xhh\tCharacter with hex value hh\t(2,3)\n",
    "    \n"
   ]
  },
  {
   "cell_type": "code",
   "execution_count": null,
   "metadata": {},
   "outputs": [],
   "source": [
    "# This is an example of something that does not work\n",
    "print('my file is in c:\\new\\myfile.txt')\n",
    "print('my file is in c:\\tigers\\brazilian_tiger_picture.png')\n",
    "\n",
    "# This is an example of something that works\n",
    "print('\\n')\n",
    "print('my file is in c:\\\\new\\\\myfile.txt')\n",
    "print(r'my file is in c:\\tigers\\brazilian_tiger_picture.png')"
   ]
  },
  {
   "cell_type": "markdown",
   "metadata": {},
   "source": [
    "Note that in the last of the previous examples,  there is an <i>r</i> before the string with the path of a file. The <i>r</i> stands for <i>raw string</i>, which is a slightly different version of strings. In raw strings, the backslash is not treated as a special character but as a regular backslash. For this reason, in the last of the examples there is no need to use the double backslash `\\\\` to print one backslash."
   ]
  },
  {
   "cell_type": "code",
   "execution_count": null,
   "metadata": {},
   "outputs": [],
   "source": [
    "# Write your answer here\n"
   ]
  },
  {
   "cell_type": "markdown",
   "metadata": {},
   "source": [
    "## 4 Booleans<a name=\"booleans\"></a>\n",
    "\n",
    "Boolean types are used to determine if a given condition is either `True` or `False`. Note that the boolean variables are capitalised.\n",
    "    \n",
    "    a = True\n",
    "    b = False\n",
    "\n",
    "Try the lines below, one by one, in the cell below:\n",
    "\n",
    "    print(a)\n",
    "    print(not a)\n",
    "    print(a is b)\n",
    "    print(a is not b)\n",
    "\n",
    "\n",
    "Note that `is` and `==` are different. \n",
    "\n",
    "The `is` operator compares the identity of objects. If two variables point to the same object (the same place in memory), the result is 'True', as they both have the same ID (can check with the id() function).\n",
    "\n",
    "The `==` operator compares values. It checks if the value of one variable is equal to the value of some other variable."
   ]
  },
  {
   "cell_type": "code",
   "execution_count": null,
   "metadata": {
    "scrolled": true
   },
   "outputs": [],
   "source": [
    "# Type your code here\n",
    "\n"
   ]
  },
  {
   "cell_type": "markdown",
   "metadata": {},
   "source": [
    "The output of logical conditions used with mathematical operations are also Boolean. For example:\n",
    "\n",
    "- Equals: `a == b`\n",
    "- Not Equals: `a != b`\n",
    "- Less than: `a < b`\n",
    "- Less than or equal to: `a <= b`\n",
    "- Greater than: `a > b`\n",
    "- Greater than or equal to: `a >= b`\n",
    "\n",
    "Try in the cell below some logical operations with the values: \n",
    "\n",
    "    a = 10\n",
    "    b = 20"
   ]
  },
  {
   "cell_type": "code",
   "execution_count": null,
   "metadata": {},
   "outputs": [],
   "source": [
    "# Type your answer here\n",
    "\n"
   ]
  }
 ],
 "metadata": {
  "kernelspec": {
   "display_name": "Python 3",
   "language": "python",
   "name": "python3"
  },
  "language_info": {
   "codemirror_mode": {
    "name": "ipython",
    "version": 3
   },
   "file_extension": ".py",
   "mimetype": "text/x-python",
   "name": "python",
   "nbconvert_exporter": "python",
   "pygments_lexer": "ipython3",
   "version": "3.7.4"
  }
 },
 "nbformat": 4,
 "nbformat_minor": 4
}
