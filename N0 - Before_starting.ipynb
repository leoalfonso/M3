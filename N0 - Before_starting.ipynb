{
 "cells": [
  {
   "cell_type": "markdown",
   "metadata": {
    "raw_mimetype": "text/markdown"
   },
   "source": [
    "<div>\n",
    "<table style=\"width: 100%\">\n",
    "\t<tr>\n",
    "\t\t<td>\n",
    "\t\t<table style=\"width: 100%\">\n",
    "\t\t\t<tr>\n",
    "                <td ><center><font size=\"30\">WSE-HI-03</font><center>\n",
    "                    <center><font size=\"30\">Software Engineering</font><center></td>\n",
    "\t\t\t</tr>\n",
    "\t\t\t<tr>\n",
    "                <td><center><font size=\"5\">Jupyter Notebook 0</font><center></td>\n",
    "\t\t\t</tr>\n",
    "\t\t\t<tr>\n",
    "                <td><center><font size=\"10\">Before starting</font><center></td>\n",
    "\t\t\t</tr>\n",
    "\t\t</table>\n",
    "\t\t</td>\n",
    "\t\t<td><img src='figures/ihe_logo.png'></img></td>\n",
    "\t</tr>\n",
    "</table>\n",
    "</div>    "
   ]
  },
  {
   "cell_type": "markdown",
   "metadata": {},
   "source": [
    "# Table of contents\n",
    "1. [Learning objectives](#learningobs)\n",
    "2. [Configure your laptop to work with Python](#config)\n",
    "3. [Getting the material for the course](#getting)\n",
    "4. [Getting familiar with Jupyter Notebook](#jnoteb)"
   ]
  },
  {
   "cell_type": "markdown",
   "metadata": {},
   "source": [
    "# 1. Learning Objectives<a name=\"learningobs\"></a> \n",
    "\n",
    "- To describe how to configure Python in your laptop, to work in Module 3\n",
    "- To learn how to access the material for the course\n",
    "- To familiarise with Jupyter Notebooks"
   ]
  },
  {
   "cell_type": "markdown",
   "metadata": {},
   "source": [
    "# 2. Configure your laptop to work with Python<a name=\"config\"></a>\n",
    "\n",
    "In this course we will use Python programming language through <b>Anaconda Navigator</b>. \n",
    "\n",
    "Anaconda Navigator is a tool to manage various versions of Python by organising them in <i>Environments</i>. It also organises  basic scientific <i>libraries</i> (e.g., Numpy, Scipy, Pandas, etc., which we will explain later). Additionally, Anaconda includes different coding interfaces, such as <b>Jupyter Notebook</b> (what you are using right now), and <b>Spyder IDE</b> (Interactive Development Environment). We will cover the notions of <i>Environments</i>, <i>libraries</i>, <i>Jupyter Notebook</i> and <i>Spyder IDE</i> later on in the course.\n",
    "\n",
    "It is possible that you already have one ore more versions of Python installed in your system. Typically, software such as ArcGIS and QGIS have their own Python installations. Although it can confuse the beginners, it is possible to have several versions of Python in a single machine, independent from each other. \n",
    "\n",
    "\n",
    "<b>Instructions to configure Anaconda Navigator on your laptop:</b>\n",
    "\n",
    "1. Check if Anaconda Navigator is installed in your laptop. Use the search button next to the Windows Start button and and check if Anaconda is installed.\n",
    "![](figures\\Anaconda_installed.png)\n",
    "\n",
    "\n",
    "2. If you do NOT see Anaconda Navigator listed, download it at https://www.anaconda.com/products/individual, and install it, for all Windows users (even if the \"all Windows users\" option may be indicated as the \"not recommended\" option).\n",
    "![](figures\\Anaconda_download.png)\n",
    "\n",
    "3. Now that we know Python is installed,  we need to make sure it is accessible from every path in your laptop. Simply open a command (CMD) window (press Windows+R, type <i>cmd</i>, and hit enter). Type 'python' (all in lowercase) in front of the prompt '>'. \n",
    "\n",
    "Three things may happen:\n",
    "\n",
    "  -  You get a new prompt symbol `>>>`, as shown below. If this is the case, you are ready! Jump to section 3.\n",
    "  \n",
    "    ![](figures\\CMD_python.png)\n",
    "    \n",
    "  -  You get an error similar to the one below. In this case, we know Python is not accessible from every path in your laptop, proceed with step 4.\n",
    "  \n",
    "  ![](figures\\python-is-not-recognized-as-an-internal-or-external-command-4.jpg)\n",
    "  \n",
    "  -  Alternatively, Windows may take the initiative to recommend you some apps to install. If so, just kill Windows' initiative by closing such window). Move to step 4.\n",
    "  \n",
    "  \n",
    "  \n",
    "  \n",
    "  \n",
    "  "
   ]
  },
  {
   "cell_type": "markdown",
   "metadata": {},
   "source": [
    "4. We will make sure that Python is accessible from every path in your laptop (and therefore, make it the default Python installation). Go through the following steps:\n",
    "\n",
    "  - Allow the view of hidden items: on your folder bar, go to <i>View</i> and check the box <i>Hidden items</i>\n",
    "  - Identify your <i>installation folder</i>. If you followed the conventional Anaconda installation (for all Windows users of your laptop), you will probably find your installation folder in <b>C:\\ProgramData\\Anaconda3\\</b>.\n",
    "  - Inside this folder you will find also the <i>scripts folder</i>, <b>C:\\ProgramData\\Anaconda3\\Scripts\\</b>\n",
    "  - Copy one path at the time and repeat step 5 for both paths\n",
    "  \n",
    "  \n",
    "\n",
    "5. Now that you have identified where these two folders are, you will have to <i>add them to your system path</i>, as follows:\n",
    "- Open the Windows File Explorer, right click on <i>This PC</i> and select <i>Properties</i>.\n",
    "\n",
    "![](figures\\properties_manager.png)\n",
    "\n",
    "  - Click on <i>Advanced System Settings</i>:\n",
    "\n",
    "![](figures\\system_settings.png)\n",
    "\n",
    "  - Click on <i>Environment Variables</i>:\n",
    "\n",
    "![](figures\\env_vars.png)\n",
    "\n",
    "  - In the <i>System variables</i> section, select the <i>Path</i> variable, and click on <i>Edit</i>:\n",
    "\n",
    "![](figures\\path.png)\n",
    "\n",
    "  - Making sure you <b>do not erase any of the current entries</b>, add to the list, using the <i>New</i> button, the path of the folders that we identified before:\n",
    "\n",
    "![](figures\\path_edit.png)\n",
    "\n",
    "Press OK to close all the dialogues.\n",
    "\n",
    "6. Close all CMD windows you may have open, and try again step 3 above, and see if you get the prompt symbol `>>>` in the command line. If you do not get it, let the lecturer know."
   ]
  },
  {
   "cell_type": "markdown",
   "metadata": {},
   "source": [
    "# 3. Getting the material for the course<a name=\"getting\"></a>\n",
    "\n",
    "All the materials of the course can be found in eCampus (https://ecampusxl.un-ihe.org/), in the corresponding Module. The most important ones are the so-called <i>Jupyter Notebooks</i>, which are browser-based digital documents containing an ordered list of input/output cells which can contain code, text, mathematics, plots and rich media. These kind of documents are saved with the \".ipynb\" extension.\n",
    "\n",
    "These documents will provide instructions and explanations of particular topics. The special thing about them is that you can use them to immediately practice your coding skills in the same document, interactively. \n",
    "\n",
    "    Notebook 1: Introduction\n",
    "    Notebook 2: Data types\n",
    "    Notebook 3: Statements\n",
    "    Notebook 4: Plotting\n",
    "    Notebook 5: File manipulation\n",
    "    Notebook 6: Functions\n",
    "    Notebook 7: Classes\n",
    "\n",
    "In the sessions where a new topic is introduced, a new notebook will be made available in eCampus for you to download. Always read carefully every single document, without skipping any line, following the instructions whenever is asked for (e.g., actions, exercises). Take your time, no need to rush: <i>there are no extra points for finishing first, or removal of points for finishing last</i>.\n",
    "\n",
    "## How to open a given Jupyter Notebook?\n",
    "\n",
    "\n",
    "1. Download the zip file, pointed out by the lecturer, from eCampus\n",
    "2. Unzip the file in a convenient folder (always in the D drive, in a folder with a meanigful name, which is part of an organised structure, such as <i>D:/IHE/Module3/Notebook1</i>)\n",
    "3. Using the File Explorer, locate the folder that contains the file with extension ipynb, for example <i>Intro_Python</i>.\n",
    "4. In the same folder, you will find an <i>opener.bat</i> file. Right-click on it and select <i>Run as Administrator</i>\n",
    "\n",
    "![](figures\\open_bat.png)\n",
    "\n",
    "What happens behind the scenes in this bat file will be explained later.\n"
   ]
  },
  {
   "cell_type": "markdown",
   "metadata": {},
   "source": [
    "# 4 Jupyter notebook<a name=\"jnoteb\"></a>\n",
    "What you are using right now is actually a Jupyter Notebook. As you can see, it is an environment that runs in a web browser. A notebook is a flexible document that is composed by cells, which you can use to add and edit text and also to write and run Python code.  \n",
    "\n",
    "## 4.1 Cell modes\n",
    "Cells can have two modes: \n",
    "- <i>Command Mode</i> (you see normal text)\n",
    "- <i>Edit Mode</i> (you see text as code) \n",
    "\n",
    "#### Action\n",
    "This cell (the textbox with a blue stripe at the left that you are reading now) is in <i>Command Mode</i>. Turn it to <i>Edit Mode</i> by double clicking on it. What is different? Turn it back to <i>Command Mode</i> by clicking on the Run button in the menu bar."
   ]
  },
  {
   "cell_type": "markdown",
   "metadata": {},
   "source": [
    "Alternatively:\n",
    "- you can press ENTER on a selected cell to turn it to Edit mode (the blue stripe border indicates that the cell is selected, and it becomes green when it is in Edit mode)\n",
    "- you can press CTRL + ENTER to turn a cell into Command Mode (i.e., equivalent to Run the cell)"
   ]
  },
  {
   "cell_type": "markdown",
   "metadata": {},
   "source": [
    "## 4.2 Cell types\n",
    "\n",
    "Cells can be of different types (which can be chosen from the menu Cell - Cell type):\n",
    "- <i>Markdown</i>, for cells whose content is text.\n",
    "- <i>Code</i>, for cells whose content is Python code.\n",
    "\n",
    "The text you are reading is in a cell of type <i>markdown</i> and has the header (title) <i>Cell types</i>. \n",
    "\n",
    "\n",
    "#### Action\n",
    "Include your name in the heading of the cell with title <i>Jupiter Notebook</i> (above), in such a way that it reads:\n",
    "\n",
    "<i>This is the Jupiter Notebook of {Your Name}</i>. \n",
    "\n",
    "For this, you must:\n",
    "- Turn such cell in Edit Mode\n",
    "- Edit the heading as indicated (heading will appear as a blue text next to the symbol #)\n",
    "- Turn the cell to Command Mode (i.e., run the cell!)"
   ]
  },
  {
   "cell_type": "markdown",
   "metadata": {},
   "source": [
    "#### Action\n",
    "The cell below is of Code Type. Write `8+12` in the second line and then run the cell."
   ]
  },
  {
   "cell_type": "code",
   "execution_count": null,
   "metadata": {},
   "outputs": [],
   "source": [
    "# type your code here! \n"
   ]
  },
  {
   "cell_type": "markdown",
   "metadata": {},
   "source": [
    "Observe what you get. \n",
    "\n",
    "- What happens if you type `8+12` in the first line, after the `!` symbol? Why?"
   ]
  },
  {
   "cell_type": "markdown",
   "metadata": {},
   "source": [
    "## 4.3. Using the Jupyter Notebook in class<a name=\"jp_class\"></a>\n",
    "Jupyter Notebook has many features that makes it convenient for teaching. For example:\n",
    "- You can read the instructions and and work in your Python code simultaneously, in the same document\n",
    "- You can keep track of your work, as you will be given different Notebooks covering different topics for you to follow.\n",
    "- You can modify the given Notebooks, by adding new cells or modifying the existing ones. A new way to take your notes in class!\n",
    "- You can save and share your notebooks\n",
    "- You will not need to carry printed handouts (which were often forgotten by past students)\n",
    "\n",
    "#### Note: you will learn Python commands and concepts in class using the Jupyter Notebook. However, more complex programming tasks require a more advanced interface to program. One of these is Spyder, introduced below.   "
   ]
  },
  {
   "cell_type": "markdown",
   "metadata": {},
   "source": [
    "# Add cells below to take notes, and to experiment"
   ]
  }
 ],
 "metadata": {
  "celltoolbar": "Raw Cell Format",
  "kernelspec": {
   "display_name": "Python 3",
   "language": "python",
   "name": "python3"
  },
  "language_info": {
   "codemirror_mode": {
    "name": "ipython",
    "version": 3
   },
   "file_extension": ".py",
   "mimetype": "text/x-python",
   "name": "python",
   "nbconvert_exporter": "python",
   "pygments_lexer": "ipython3",
   "version": "3.7.4"
  }
 },
 "nbformat": 4,
 "nbformat_minor": 2
}
