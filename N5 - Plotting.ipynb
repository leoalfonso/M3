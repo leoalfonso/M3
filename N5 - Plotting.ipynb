{
 "cells": [
  {
   "cell_type": "markdown",
   "metadata": {},
   "source": [
    "<div>\n",
    "<table style=\"width: 100%\">\n",
    "\t<tr>\n",
    "\t\t<td>\n",
    "\t\t<table style=\"width: 100%\">\n",
    "\t\t\t<tr>\n",
    "                <td ><center><font size=\"30\">WSD - Module 11</font><center>\n",
    "                    <center><font size=\"30\">Topic: Programming</font><center></td>\n",
    "\t\t\t</tr>\n",
    "\t\t\t<tr>\n",
    "                <td><center><font size=\"5\">Jupyter Notebook 5</font><center></td>\n",
    "\t\t\t</tr>\n",
    "\t\t\t<tr>\n",
    "                <td><center><font size=\"10\">Plotting</font><center></td>\n",
    "\t\t\t</tr>\n",
    "\t\t</table>\n",
    "\t\t</td>\n",
    "\t\t<td><img src='figures/ihe_logo.png' width=\"200\" height=\"200\"></img></td>\n",
    "\t</tr>\n",
    "</table>\n",
    "</div>    "
   ]
  },
  {
   "cell_type": "markdown",
   "metadata": {},
   "source": [
    "# Table of contents\n",
    "1. [Learning objectives](#learningobs)\n",
    "2. [Introduction](#introduction)\n",
    "3. [Plotting](#plotting)\n",
    "\n",
    "\n",
    "## 1. Learning objectives<a name=\"learningobs\"></a>\n",
    "\n",
    "At the end of this session you will be able to:\n",
    "- Create plots in Python\n",
    "- Apply some of the most common plots using the `matplotlib` library.\n",
    "\n",
    "\n",
    "## 2. Introduction<a name=\"introduction\"></a>\n",
    "\n",
    "One of the main advantages of using Python is its powerful and yet simple-to-use plotting capabilities. Although there are many other libraries for plotting, the `matplotlib` library is often used for scientific purposes. Check the types of plots we can do with `matplotlib` at https://matplotlib.org/gallery.html.\n",
    "\n",
    "The basic `matplotlib` interface for plotting is usually handled through the command `matplotlib.pyplot`, and shortened using the (widely used) convention `plt`. To enable this library in your session, you must type:\n",
    "\n",
    "    import matplotlib.pyplot as plt\n",
    "    \n",
    "Learn this line by heart!\n",
    "\n",
    "The main function of basic plotting in `matplotlib` is `plot`, which has a lot of options."
   ]
  },
  {
   "cell_type": "markdown",
   "metadata": {},
   "source": [
    "\n",
    "\n",
    "\n",
    "## 3 Procedure for plotting<a name=\"plotting\"></a>\n",
    "We often want to graph functions such as $y=f(x)$; other time we need to plot a series of different functions $y_i=f_i(x)$ in the same graph. \n",
    "\n",
    "The procedure to plot is as follows:\n",
    "\n",
    "1. Decide the domain of the independent variable $x$ (min and max values)\n",
    "2. Decide the number of points that will be used to plot. The higher the number of points the higher the resolution of the graph\n",
    "3. Calculate $y$ based on the values of $x$, using the particular function you are interested on, $y=f(x)$\n",
    "4. Use the `plot` function to plot the pairs $(x,y)$ and connect them\n",
    "5. Optionally, specify line types, colors, markers, titles, axis labels, axis limits, grids, etc.\n",
    "\n",
    "\n",
    "In step 2, we could use the `range` command to produce a sequence with certain number of points. However, we will be limited to using integers as values of $x$. This is of course not very convenient for most of the mathematical functions. Instead, we can the function `arange`, which works like `range`, but supporting floats. It also comes from the NumPy library:\n",
    "\n",
    "`np.arange(ini, end, step)` \n",
    "\n",
    "where `ini` indicates the initial value of the sequence, `end` indicates the last value, and `step` defines the resolution at which the sequence is discretised."
   ]
  },
  {
   "cell_type": "markdown",
   "metadata": {},
   "source": [
    "## 3.1 Example\n",
    "\n",
    "Let's plot the $y=sin(x)$ function over the interval $[0, 2\\pi]$, following the above procedure:\n",
    "\n",
    "<b>1. Decide the $x$ domain:</b>\n",
    "    \n",
    "This has been decided. The domain is the interval $[0, 2\\pi]$.\n",
    "\n",
    "\n",
    "<b>2. Decide the number of points used to plot:</b>\n",
    "\n",
    "Let's use $100$ points to generate the plot. We can use the `arange` function to produce a sequence of $100$ values within $0$ to $2\\pi$. Recall that we must do `import numpy as np` before running this line:\n",
    "    \n",
    "    x = np.arange(0.0, 2.0*np.pi, np.pi/50.0)  \n",
    "    \n",
    "In other words, we have produced the vector $x$, from $0$ to $2\\pi$ with a step of $\\pi/50$.\n",
    "\n",
    "\n",
    "<b>3. Calculate $y$ based on the values of $x$:</b>\n",
    "\n",
    "We calculate $y=sin(x)$. Simply:\n",
    "\n",
    "    y = np.sin(x)\n",
    "\n",
    "\n",
    "<b>4. Use the matplotlib's `plot` function</b>\n",
    "\n",
    "Recall that we must use `import matplotlib.pyplot as plt` to be able to run the line\n",
    "\n",
    "    plt.plot(x,y)\n",
    "\n",
    "    \n",
    "\n",
    "Use the cell below to type and run all the lines of code presented."
   ]
  },
  {
   "cell_type": "code",
   "execution_count": null,
   "metadata": {},
   "outputs": [],
   "source": [
    "#%matplotlib notebook\n",
    "# Get the values (of x) for the plot of the function\n",
    "\n",
    "\n",
    "# Calculate the value of the sin function for every x\n",
    "\n",
    "\n",
    "# Make a line plot to show the values of x and y\n",
    "\n",
    "\n"
   ]
  },
  {
   "cell_type": "markdown",
   "metadata": {},
   "source": [
    "## 3.2. Customizing the graph\n",
    "The last point of the procedure above, which is optional, is about customizing the graph. As you can see, the resulting plot above is a solid, blue line with no markers. You may wish to customize the line type, markers and colours. In `Matplotlib` it is possible to use arguments for each of these items. The plot function accepts (sef-explanatory) variables such as:\n",
    "\n",
    "    linestyle\n",
    "    linewidth\n",
    "    marker\n",
    "    markersize\n",
    "    color\n",
    "    \n",
    "Now let's try to supply this extra parameter to the `plot` function. Simply add the following to the `plot` line:\n",
    "\n",
    "    plt.plot(x, y, linestyle='--', color='r')\n",
    "\n",
    "Try this line in the cell below    "
   ]
  },
  {
   "cell_type": "code",
   "execution_count": null,
   "metadata": {},
   "outputs": [],
   "source": [
    "#Try your code here\n"
   ]
  },
  {
   "cell_type": "markdown",
   "metadata": {},
   "source": [
    "The following table shows the meaning of some of the different characters (used as abbreviations) to access the different properties of the plot. Color definitions can also be given in form of HEX value (https://www.w3schools.com/colors/colors_picker.asp) as string\n",
    "\n",
    "Table 1: Some markers, line style and colors for line plots\n",
    "\n",
    "| Marker | Description |Line style | Description | Color index | Color |\n",
    "| :----: | :----: |:----: | :----: | :----: | :----: |\n",
    "| '.' | point |'-' | continuos | 'b' | blue |\n",
    "| ',' | pixel |'--' | dashed | 'g' | green |\n",
    "| 'o' | circle |'-.' | dash-dot | 'r' | red |\n",
    "| 'v' | triangle_down |':' | dotted | 'c' | cyan |\n",
    "| '^' | triangle_up | |  | 'm' | magenta |\n",
    "| '<' | triangle_left | |  | 'y' | yellow |\n",
    "| '>' | triangle_right | |  | 'k' | black |\n",
    "| '1' | tri_down | |  | 'w' | white |\n",
    "| '2' | tri_up | |  |  |  |\n",
    "| '3' | tri_left | |  |  |  |\n",
    "| '4' | tri_right | |  |  |  |\n",
    "| '8' | octagon | |  |  |  |\n",
    "| 's' | square | |  |  |  |\n",
    "| 'p' | pentagon | |  |  |  |\n",
    "| 'P' | plus (filled) | |  |  |  |\n",
    "| '*' | star | |  |  |  |\n",
    "| 'h' | hexagon1 | |  |  |  |\n",
    "| 'H' | hexagon2 | |  |  |  |\n",
    "| '+' | plus | |  |  |  |\n",
    "| 'x' | x | |  |  |  |\n",
    "| 'X' | x (filled) | |  |  |  |\n",
    "| 'D' | diamond | |  |  |  |\n",
    "| 'd' | thin_diamond | |  |  |  |\n",
    "| '_' | hline | |  |  |  |\n",
    "\n"
   ]
  },
  {
   "cell_type": "markdown",
   "metadata": {},
   "source": [
    "It is a good practice to use different lines of code when there are many items to customise. Run the code below, check it out, and play around with different styles and colours:"
   ]
  },
  {
   "cell_type": "code",
   "execution_count": null,
   "metadata": {},
   "outputs": [],
   "source": [
    "# Make a plot with different specifications\n",
    "\n",
    "plt.plot([1.1, 3.0, 4.0], [6.0, 8.1, 5.0],   #Note x and y have 3 elements each\n",
    "         linestyle='--',                     #Note we can specify different arguments in \n",
    "         linewidth= 5.0,                     #  different lines, just mind the indentation)\n",
    "         marker='o', \n",
    "         markersize=20,\n",
    "         color='r', )\n",
    "plt.show()\n"
   ]
  },
  {
   "cell_type": "markdown",
   "metadata": {},
   "source": [
    "### Action\n",
    "In the cell below write a Python code to plot the function $y=cos(x)$ over the interval $[-\\pi, \\pi]$ with a green, dashdot line. "
   ]
  },
  {
   "cell_type": "code",
   "execution_count": null,
   "metadata": {},
   "outputs": [],
   "source": [
    "# Type here your code\n"
   ]
  },
  {
   "cell_type": "markdown",
   "metadata": {},
   "source": [
    "## 3.3 Titles and labels\n",
    "Titles and labels can be easily added using `plt.title` (for title), `plt.xlabel` (for horizontal axis) and `plt.ylabel` (for vertical axis). The functions receive a string as input argument. Additionally, it is possible to use <i>Latex</i>-type formulas, by adding them between `$` symbols. \n",
    "\n",
    "### Action\n",
    "Follow the comments to complete the code below."
   ]
  },
  {
   "cell_type": "code",
   "execution_count": null,
   "metadata": {},
   "outputs": [],
   "source": [
    "# Get the values for the plot of the function\n",
    "import numpy as np\n",
    "import matplotlib.pyplot as plt\n",
    "x = np.arange(0.0, 2.0*np.pi, np.pi/100.0)\n",
    "\n",
    "# Calculate y as the value of the sin function for every element in x\n",
    "y=np.sin(x)\n",
    "\n",
    "# Make a line plot of x vs y\n",
    "plt.plot(x,y)\n",
    "\n",
    "# set the title\n",
    "\n",
    "\n",
    "# set the axes titles\n",
    "\n",
    "\n",
    "# Display the plot\n",
    "plt.show()"
   ]
  },
  {
   "cell_type": "markdown",
   "metadata": {},
   "source": [
    "## 3.4 Customizing axes\n",
    "The default setting of axes in a plot might be already good enough. However, you may also want to improve it a bit. The main command for this purpose is `axis`.\n",
    "\n",
    "To set your own `x` and `y` limits, you can use:\n",
    "\n",
    "    plt.axis([xmin, xmax, ymin, ymax])\n",
    "    \n",
    "Alternatively, it is possible to set only one axis at a time using the commands:\n",
    "\n",
    "    plt.xlim(xmin, xmax)\n",
    "    plt.ylim(ymin, ymax)\n",
    "\n",
    "### Action\n",
    "\n",
    "Adjust the limits of the previous plot by using the `axis` command. Set the range of $x$ exactly to $[0, 2\\pi]$, and of $y$ to $[-1.0, 1.0]$\n"
   ]
  },
  {
   "cell_type": "code",
   "execution_count": null,
   "metadata": {},
   "outputs": [],
   "source": [
    "# Make the plot\n",
    "plt.plot(x,y)\n",
    "\n",
    "# Set the range of x exactly to [0, 2π], and y[-1.0, 1.0]\n",
    "\n",
    "\n",
    "# Display the figure\n",
    "plt.show()\n"
   ]
  },
  {
   "cell_type": "markdown",
   "metadata": {},
   "source": [
    "### Action\n",
    "\n",
    "Plot the $sin(x)$ function again and use now `plt.xlim` and `plt.ylim` to set the axis limits."
   ]
  },
  {
   "cell_type": "code",
   "execution_count": null,
   "metadata": {},
   "outputs": [],
   "source": [
    "# Make the plot\n",
    "\n",
    "# Adjust the axis using plt.xlim and plt.ylim\n",
    "\n"
   ]
  },
  {
   "cell_type": "markdown",
   "metadata": {},
   "source": [
    "## 3.5 Adding grids\n",
    "\n",
    "Excel produces plot with grids as background by default. If you like that, you can use `plt.grid()` to switch the grids on or off.\n",
    "\n",
    "Note that if you use the command twice, the grid will turn off."
   ]
  },
  {
   "cell_type": "code",
   "execution_count": null,
   "metadata": {},
   "outputs": [],
   "source": [
    "# Make the plot\n",
    "\n",
    "\n",
    "# Set the range of x to [0, 2π], and of y to [-1.0, 1.0]\n",
    "\n",
    "\n",
    "# Add the grid in the background\n",
    "\n"
   ]
  },
  {
   "cell_type": "markdown",
   "metadata": {},
   "source": [
    "## 3.6 Plotting multiple series\n",
    "Sometimes we want to make a graph with several series in the same plot. Simply add as many `plt.plots` as you need. A good practice is that you make sure that all the data to be plotted is ready, and then plot all the curves in sequence."
   ]
  },
  {
   "cell_type": "markdown",
   "metadata": {},
   "source": [
    "Now try the following in the cell below:\n",
    "\n",
    "    # Option one: create the two plots and show them at the end\n",
    "    plt.plot(x, y1)\n",
    "    plt.plot(x, y2)\n",
    "    plt.show()\n",
    "    \n",
    "    # Option two: create one figure, at the time and display them at the end\n",
    "    plt.figure()\n",
    "    plt.plot(x, y1)\n",
    "    plt.plot(x, y2)\n",
    "    plt.show()"
   ]
  },
  {
   "cell_type": "code",
   "execution_count": null,
   "metadata": {},
   "outputs": [],
   "source": [
    "# Try your code here\n"
   ]
  },
  {
   "cell_type": "markdown",
   "metadata": {},
   "source": [
    "## 3.7 Adding legends\n",
    "\n",
    "Since we produced multiple plots on the same figure, it is necessary to use legends to differentiate them. In `Matplotlib` this is possible by adding a legend:\n",
    "\n",
    "    plt.legend()\n",
    "    \n",
    "Legend has different properties. A detailed description of the legend function is presented in https://matplotlib.org/users/legend_guide.html.\n",
    "\n",
    "### Action\n",
    "Check the following code. Add a legend and find out how to change its position in the plot."
   ]
  },
  {
   "cell_type": "code",
   "execution_count": null,
   "metadata": {},
   "outputs": [],
   "source": [
    "# Action 2.9\n",
    "# Plot two series\n",
    "plt.plot(x, y1, 'r', label='$sin(x)$')\n",
    "plt.plot(x,y2, '--g', label='$sin(x+\\pi/2)$');\n",
    "\n",
    "# add legend and change location\n",
    "\n",
    "#show plot\n",
    "plt.show()"
   ]
  },
  {
   "cell_type": "markdown",
   "metadata": {},
   "source": [
    "## 3.8 Define the figure size\n",
    "\n",
    "By defining the size of the figure, it is possible to control the way it relates to the final printed outcome, as well as with the real size of the fonts in the display. If the size of the figure is correctly displayed, it will be ensured that the size of the characters inside this function corresponds to such of your document or presentation, including titles, legends and ticks. Also, it will control the aspect ratio of the figure.\n",
    "\n",
    "To select the size of the figure, we use:\n",
    "    \n",
    "    plt.figure(figsize=[x, y])\n",
    "    \n",
    "where `x` and `y` are the width and height in inches (sorry) of the graph.\n",
    "\n",
    "### Action:\n",
    "Explore different figure sizes in the cell below. Note that \\pi is used to show the symbol of π (in fact, you can use Latex syntax to produce math symbols)."
   ]
  },
  {
   "cell_type": "code",
   "execution_count": null,
   "metadata": {},
   "outputs": [],
   "source": [
    "# Define size of the fidure here\n",
    "\n",
    "\n",
    "#Plot first series\n",
    "plt.plot(x, y1, 'r', label='$sin(x)$')\n",
    "\n",
    "#Plot second series\n",
    "plt.plot(x,y2, '--g', label='$sin(x+\\pi/2)$');\n",
    "\n",
    "#Change legend location\n",
    "plt.legend(loc=10)\n",
    "\n"
   ]
  },
  {
   "cell_type": "markdown",
   "metadata": {},
   "source": [
    "## 3.9 Using subplots \n",
    "It is also common to compare function plots side by side rather than overlapping the plots. The `subplot` function is very helpful in this case. The idea is that the drawing area is divided into a matrix of panels, each containing a particular plot. The command can be used in this way:\n",
    "\n",
    "    plt.subplot(m,n,k)\n",
    "    \n",
    "where `m` is the number of panels arranged in rows, `n` is the number of panels arranged in columns and `k` is the particular panel where a plot will be graphed. For example, `plt.subplot(2,2,1)` will generate a figure with four panels, arranged as a matrix of 2 by 2. The plot command will plot it in the panel 1, which is the one located at the first row and first column. Run the cell below and play around with the `subplot` command."
   ]
  },
  {
   "cell_type": "code",
   "execution_count": null,
   "metadata": {},
   "outputs": [],
   "source": [
    "# Define values of x\n",
    "x = np.arange(0.0, 2.0*np.pi, np.pi/100.0)\n",
    "\n",
    "#Define series y1 and y2\n",
    "y1 = np.sin(x)\n",
    "y2 = np.cos(x)\n",
    "\n",
    "#Add a subplot of 2 rows and 1 column, and activate the first cell to plot (number 1)\n",
    "\n",
    "plt.figure(figsize=[10,5])\n",
    "\n",
    "plt.subplot(2,1,1)\n",
    "\n",
    "# Make plot\n",
    "plt.plot(x,y1)\n",
    "\n",
    "#In the same subplot of 2 rows and 1 column, activate now the second cell to plot (number 2)\n",
    "plt.subplot(2,1,2)\n",
    "\n",
    "# Make plot\n",
    "plt.plot(x,y2)\n"
   ]
  },
  {
   "cell_type": "markdown",
   "metadata": {},
   "source": [
    "## 2.10 Saving your figures\n",
    "If you need to save the figures, you can use:\n",
    "    \n",
    "    plt.savefig('path\\file_name.png')\n",
    "    \n",
    "By default, the `plt.savefig` command will save the current figure, in the destination given by `file_name`. This filename can also be a path to a specific location in your computer. Additionally, you can specify different extensions (such as the Portable Network Graphic, png, in the line above).\n",
    "\n",
    "It is also possible to specify the resolution of the saved graph by setting the `dpi` parameter. Most scientific journals require a resolution higher than 300dpi.\n",
    "\n",
    "## Exercise <span style='background :yellow' > (self-study)</span>\n",
    "Suppose we have obtained the monthly averaged precipitation (mm) and runoff (mm, in terms of depth) of an African catchment. The data is given in the table below:\n",
    "\n",
    "\n",
    "| Variable | unit | Jan | Feb | Mar | Apr | May | Jun | Jul | Aug | Sep | Oct | Nov | Dec |\n",
    "| :----: | :----: |:----: | :----: | :----: | :----: | :----: | :----: | :----: | :----: | :----: | :----: |:----: |:----: |\n",
    "| Precip | (mm) | 100 | 220|  200 | 100 | 80  | 90  | 60  | 60  | 80  | 180 | 110 | 130\n",
    "| Runoff | (mm) |  60 |  120|  180|  170 | 60 |  50 |  50 |  40 |  60 |  90 |  100|  120\n",
    "\n",
    "\n",
    "Generate two different figures, as follows:\n",
    "- Figure 1 will show precipitation and runoff in the same graph, sharing the same time axis.\n",
    "- Figure 2 will have two‐panel subplots, showing precipitation in the upper panel and runoff in the lower panel.\n",
    "\n",
    "In both cases plot the precipitation as a bar chart and place it above the runoff graph with a reversed vertical\n",
    "coordinates, i.e., the `y` axis of precipitation plot goes downwards. Include titles of axes and graphs and a proper\n",
    "legend. Format the graphs (colors, line types, etc) as you wish."
   ]
  }
 ],
 "metadata": {
  "kernelspec": {
   "display_name": "Python 3",
   "language": "python",
   "name": "python3"
  },
  "language_info": {
   "codemirror_mode": {
    "name": "ipython",
    "version": 3
   },
   "file_extension": ".py",
   "mimetype": "text/x-python",
   "name": "python",
   "nbconvert_exporter": "python",
   "pygments_lexer": "ipython3",
   "version": "3.7.4"
  }
 },
 "nbformat": 4,
 "nbformat_minor": 4
}
