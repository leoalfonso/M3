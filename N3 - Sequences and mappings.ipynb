{
 "cells": [
  {
   "cell_type": "markdown",
   "metadata": {},
   "source": [
    "<div>\n",
    "<table style=\"width: 100%\">\n",
    "\t<tr>\n",
    "\t\t<td>\n",
    "\t\t<table style=\"width: 100%\">\n",
    "\t\t\t<tr>\n",
    "                <td ><center><font size=\"30\">WSD - Module 11</font><center>\n",
    "                    <center><font size=\"30\">Topic: Programming</font><center></td>\n",
    "\t\t\t</tr>\n",
    "\t\t\t<tr>\n",
    "                <td><center><font size=\"5\">Jupyter Notebook 3</font><center></td>\n",
    "\t\t\t</tr>\n",
    "\t\t\t<tr>\n",
    "                <td><center><font size=\"10\">Sequences <span style='background :yellow' > (self-study)</span></font><center></td>\n",
    "\t\t\t</tr>\n",
    "\t\t</table>\n",
    "\t\t</td>\n",
    "\t\t<td><img src='figures/ihe_logo.png' width=\"200\" height=\"200\"></img></td>\n",
    "\t</tr>\n",
    "</table>\n",
    "</div>    "
   ]
  },
  {
   "cell_type": "markdown",
   "metadata": {},
   "source": [
    "# Table of contents\n",
    "1. [Learning objectives](#learningobs)\n",
    "2. [Introduction](#introduction)\n",
    "3. [Sequences](#sequen)\n",
    "    \n",
    "    3.1. [Lists](#list_sequen)\n",
    "    \n",
    "    3.2. [Tuples](#tuple_sequen)\n",
    "    \n",
    "    3.3. [Generators](#generat_sequen)\n",
    "    \n",
    "4. [Sets](#sets_sequen)\n",
    "   \n",
    " \n",
    "5. [Mappings](#mappings)\n",
    "    \n",
    "    5.1. [Dictionaries](#dictionaries)\n",
    "    \n",
    "    5.2. [Enumerates](#enumerates)\n",
    "    \n",
    "\n",
    "\n",
    "## 1. Learning objectives<a name=\"learningobs\"></a>\n",
    "\n",
    "At the end of this session you will be able to:\n",
    "- Define Sequences and mappings in the context of Python\n",
    "- Explain the difference between lists, tuples, and dictionaries in Python. \n",
    "- Manipulate different types of sequences in Python\n",
    "\n",
    "\n",
    "## 2. Introduction<a name=\"introduction\"></a>\n",
    "\n",
    "In the previous Notebook we learnt that Python has several bult-in data types, and we studied Numbers (Integers, Floating point, Complex), Strings and Booleans. In this Notebook, we will look at more sophisticated data types, namely:\n",
    "\n",
    "- Sequences (Lists, Tuples, Generators)\n",
    "- Mappings (Dictionaries, Enumerate)\n",
    "\n",
    "In the next Notebook we will see Arrays, as well as additional types that exist for different libraries."
   ]
  },
  {
   "cell_type": "markdown",
   "metadata": {},
   "source": [
    "# 3. Sequences<a name=\"sequen\"></a>\n",
    "Sequence is a generic term to refer to an ordered set.\n",
    "\n",
    "\n",
    "## 3.1. Lists<a name=\"list_sequen\"></a>\n",
    "A list is a vector of elements separated by commas, within brackets. For example, a 3-element list whose first, second and third elements are `8`, `12` and `20` respectively, can be stored in a list called `a` as follows: \n",
    "\n",
    "    a = [8 ,12, 20]\n",
    "\n",
    "Note that spaces before and after the commas are ignored.\n",
    "\n",
    "\n",
    "In order to get the $i^{th}$ element of `a` ($i$ is also called <b>index</b>), the expression `a[i]` can be used. So:\n",
    "\n",
    "- `a[0]` will return `8`\n",
    "- `a[2]` will return `20`\n",
    "\n",
    "Note that the first element of the list is accessed using the index `0`, not `1`.\n",
    "\n",
    "Interestingly, `a[-1]` will also return `20`. In fact, the index `-1` will always return the last element of a list, the index `-2` will always return the element before the last, and so on. In other words, negative indexes allow to access the elements in a list from right to left, starting from `-1`.\n",
    "\n",
    "### Action \n",
    "Create in the cell below a list called `v` with the following elements: `2, 4, 6, 8, 10`. What elements of `v` are retrieved when using the indexes `0`, `3`, `-1` and `-6`?"
   ]
  },
  {
   "cell_type": "code",
   "execution_count": null,
   "metadata": {},
   "outputs": [],
   "source": [
    "# Type your code here\n"
   ]
  },
  {
   "cell_type": "markdown",
   "metadata": {},
   "source": [
    "The `IndexError: list index out of range` is a very common error. Add a Markdown cell below and explain there when does this error happen. "
   ]
  },
  {
   "cell_type": "markdown",
   "metadata": {},
   "source": [
    "<b>Note 1: </b>Lists can also accept combinations of data types. \n",
    "\n",
    "<b>Note 2:</b> We can also use the index to change an element of a list. For instance:\n",
    "\n",
    "    v[0] = 0\n",
    "\n",
    "will update the first element of `v` from `2` to `0`. Try the above expressions in the cell below."
   ]
  },
  {
   "cell_type": "code",
   "execution_count": null,
   "metadata": {},
   "outputs": [],
   "source": [
    "# Type your code here\n"
   ]
  },
  {
   "cell_type": "markdown",
   "metadata": {},
   "source": [
    "### Some possible operations in lists\n",
    "\n",
    "Lists support certain operations or <i>methods</i> that control their behaviour (we shall see methods in detail later in the course). Some examples are:\n",
    "\n",
    "`list.append(x)`: Adds an element at the end of the list.\n",
    "\n",
    "`list.insert(i, x)`: Inserts the element `x` at a given index `i`. For example, `a.insert(0, x)` inserts `x` at the beginning of the list. Note that `a.insert(len(a), x)` is equivalent to `a.append(x)`, as the command `len` returns the number of elements in a list.\n",
    "\n",
    "`list.remove(x)`: Removes the first element of a list whose value is equal to `x`. It raises a `ValueError` if such element does not exist in the list.\n",
    "\n",
    "`list.pop(i)`: Removes the element at position `i`.\n",
    "\n",
    "`list.clear()`: Removes all the elements of the list. The list will still exist, but empty. Equivalent to `del a[:]`.\n",
    "\n",
    "`list.count(x)`: Returns the number of times `x` appears in the list.\n",
    "\n",
    "`list.sort(reverse=False)`: Sorts a list with numerical elements from the smallest to the biggest value. Use `reverse=True` to sort the list the other way around.\n",
    "\n",
    "`list.reverse()`: Reverses the elements of the list.\n",
    "\n",
    "`list.copy()`: Returns a <i>shallow</i> copy of the list. Equivalent to `a[:]`.\n",
    "\n",
    "The complete documentation of the lists can be found [here](https://docs.python.org/3/tutorial/datastructures.html) \n",
    "\n",
    "### Action\n",
    "\n",
    "Create two lists with the following elements\n",
    "\n",
    "    a = ['a', 1, 3, 30, 2, '5', sum]\n",
    "    b = [1, 10, 50, 2, 40]\n",
    "\n",
    "- Apply to both lists two of the methods mentioned above. Use comments to announce what methods you try, and to describe what happens in each case."
   ]
  },
  {
   "cell_type": "code",
   "execution_count": null,
   "metadata": {},
   "outputs": [],
   "source": [
    "# Type your code here\n"
   ]
  },
  {
   "cell_type": "markdown",
   "metadata": {},
   "source": [
    "## 3.2 Tuples<a name=\"tuple_sequen\"></a>\n",
    "\n",
    "Tuples are like lists, but: \n",
    "\n",
    "- Tuples cannot be modified, i.e., they are <i>immutable</i>\n",
    "- Tuples are defined using parentheses `()`, not square brackets `[]`\n",
    "\n",
    "The fact that tuples are immutable makes them very efficient for iterations.\n",
    "\n",
    "A Tuple can be created in many ways, but using comma-separated values within round brackets is preferred, for example: \n",
    "\n",
    "    tup1 = ('physics', 'chemistry', 1997, 2000);\n",
    "    tup2 = (1, 2, 3, 4, 5 );\n"
   ]
  },
  {
   "cell_type": "markdown",
   "metadata": {},
   "source": [
    "Let’s build the tuple variable `digital_innovations`, based on the list you made above. Just use round brackets instead of the \n",
    "squared ones to create the tuple:\n",
    "\n",
    "    digital_innovations = ('Hydroinformatics', '11', '12', '13', '14', '15')"
   ]
  },
  {
   "cell_type": "code",
   "execution_count": null,
   "metadata": {},
   "outputs": [],
   "source": [
    "# Type your code here:\n"
   ]
  },
  {
   "cell_type": "markdown",
   "metadata": {},
   "source": [
    "As in the case of a list, `digital_innovations[0]` will retrieve `Hydroinformatics` and `digital_innovations[1]` will retrieve `'11'`. However,\n",
    "\n",
    "    digital_innovations[0] = 'Governance'\n",
    "    \n",
    "will generate an error because we are trying to change a value in the tuple. The generated error is a `type error`, because the assignment command is not supported by the tuple type variable."
   ]
  },
  {
   "cell_type": "markdown",
   "metadata": {},
   "source": [
    "<b> Note </b> When constructing tuples with one element, a comma after the first element is required. Otherwise, the interpreter will think that the variable is assigned to the type of such element. It is a good practice to do this also for lists, although this is not mandatory. For example:\n",
    "\n",
    "    a = [1, ]  # This creates a list of one element. The comma is not mandatory\n",
    "    a = [1]    # This is equivalent to the line above\n",
    "    \n",
    "    b = (1)    # This creates an 'int' value\n",
    "    b = (1, )  # This creates a tuple with the value of 1 as its first element\n"
   ]
  },
  {
   "cell_type": "markdown",
   "metadata": {},
   "source": [
    "### Some possible operations with tuples\n",
    "`len(tuple)`: Gives the total length of the tuple.\n",
    "\n",
    "`max(tuple)`: Returns item from the tuple with max value.\n",
    "\n",
    "`min(tuple)`: Returns item from the tuple with min value.\n",
    "\n",
    "`tuple(seq)`: Converts a list into a tuple.\n",
    "\n",
    "### Action\n",
    "\n",
    "In the cell below, create a tuple and apply to it the operations mentioned above."
   ]
  },
  {
   "cell_type": "code",
   "execution_count": null,
   "metadata": {},
   "outputs": [],
   "source": [
    "# Type your code here:\n"
   ]
  },
  {
   "cell_type": "markdown",
   "metadata": {},
   "source": [
    "## 3.3 Generators<a name=\"generat_sequen\"></a>\n",
    "\n",
    "Generators are immutable sequences that create elements to be used in iterations, without storing the full sequence and therefore avoiding the use of excessive space in memory.\n",
    "\n",
    "### The range function\n",
    "The most common generator is the `range` function. It is used, for example, to create iterators of integer numbers. For example, if we want to create an iterator for the integers between `0` and `10` (without including the `10`), we will use:\n",
    "\n",
    "    range(10)\n",
    "\n",
    "It is also possible to have a starting number different from 0. For example `range(2,10)` will create a generator that spans from `2` to `10` (exclusive). i.e., `2, 3, 4, 5, 7, 8, 9`.\n",
    "\n",
    "It is also possible to define the step that the iterator will use by adding a third argument. For example, if we want to create a sequence from `5` to `30` (exclusive) with a step of `5`, we use:\n",
    "\n",
    "`range(5, 30, 5)`, and the output will be `5, 10, 15, 20, 25`.\n",
    "\n",
    "<b>Note:</b>\n",
    "\n",
    "Keep in mind that generators deliver values on the go, so it is not possible to access their value or position in memory as we do with lists. Instead, it is only possible to access its <i>current</i> value. For this reason, no output is shown when we try to `print` a generator variable, unless we use a loop (we shall see `loops` later in the course). However, you can determine some of their characteristics, for example the command `len()` can be used to know how many items are in the generated range. \n",
    "\n",
    "### Action\n",
    "\n",
    "Create, in the cell below, a sequence of integers from 20 to 30 (inclusive) with a step of 2. How many values will be generated?"
   ]
  },
  {
   "cell_type": "code",
   "execution_count": null,
   "metadata": {},
   "outputs": [],
   "source": [
    "# Type your code here\n"
   ]
  },
  {
   "cell_type": "markdown",
   "metadata": {},
   "source": [
    "# 5 Mappings <a name=\"mappings\"></a>\n",
    "\n",
    "A <i>mapping</i> is a data type in which the position of the elements can be identified using a <i>key</i>. Lists can be understood as a particular type of mapping where the <i>key</i> is a sequence of integers (the indexes). We can think of a mapping as a sort of table, in which each row has an identifier assigned.\n",
    "\n",
    "For example a mapping called `map` in which the elements `1` to `4` are identified by their corresponding name in words, can be conceptualised as a table like the one below:\n",
    "\n",
    "![](figures\\\\mapping.png)\n",
    "\n",
    "## 5.1 Dictionaries<a name=\"dictionaries\"></a>\n",
    "\n",
    "A dictionary is a type of mapping in which the keys are either strings or tuples. \n",
    "\n",
    "In practice, only strings are used to create keys. To define a dictionary, pairs of `values` and `keys` are needed. We can build a dictionary in two ways: either as a \"keyed set\", or using the `dict` command. These two methods are presented below to start building a dictionary that represents the table above: \n",
    "\n",
    "Way 1: using the \"keyed construction\".\n",
    "\n",
    "    f = {'one': 1, 'two': 2}\n",
    "    \n",
    "Way 2: using the `dict` command:\n",
    "    \n",
    "    f = dict(one=1, two=2)\n",
    "    \n",
    "In both examples, the keys are the labels `'one'` and `'two'`.\n",
    "\n",
    "### Action\n",
    "\n",
    "In the cell below, make a dictionary with keys `name` and `last_name`, and fill it up with your own values. Try both methods."
   ]
  },
  {
   "cell_type": "code",
   "execution_count": null,
   "metadata": {},
   "outputs": [],
   "source": [
    "#Type here your code!\n"
   ]
  },
  {
   "cell_type": "markdown",
   "metadata": {},
   "source": [
    "### Some possible operations with Dictionaries\n",
    "\n",
    "Dictionaries have several useful <i>methods</i>, including:\n",
    "\n",
    "- `dict.keys()` Returns a view of the keys in the dictionary\n",
    "- `dict.values()` Returns a view of the values in the dictionary\n",
    "- `dict.items()` Returns a view of the key-value pairs in the dictionary\n",
    "\n",
    "<b>Note</b> The outcome of these methods are <i>generators</i>.\n",
    "\n",
    "To access the elements of a dictionary, we use square brackets. Therefore, to access the value of the key `'one'` of the dictionary `f` above, we use:\n",
    "\n",
    "    f['one']\n",
    "whose output is `1`.\n",
    "\n",
    "#### Action\n",
    "\n",
    "- Make a dictionary with your personal data (does not have to be real) which include your name, last name, telephone number, favourite colour and a list of your lucky numbers (at least 3)\n",
    "- Retrieve the name that you saved in the dictionary\n",
    "- Retrieve your second lucky number\n",
    "\n"
   ]
  },
  {
   "cell_type": "code",
   "execution_count": null,
   "metadata": {},
   "outputs": [],
   "source": [
    "# Type your code here!\n"
   ]
  },
  {
   "cell_type": "markdown",
   "metadata": {},
   "source": [
    "## 5.2. Enumerates<a name=\"enumerates\"></a>\n",
    "\n",
    "Enumerates are a type of mapping that allows for generating an index next to an element to be iterated.\n",
    "\n",
    "As an example, we can have the string (which is an iterable):\n",
    "\n",
    "    a = 'Open your eyes'\n",
    "    \n",
    "We can generate an enumerate to define the position of each element as:\n",
    "    \n",
    "    enumerate(a)\n",
    "    \n",
    "Check this in the cell below. Note that in order to see all pairs, an <i>iteration</i> is needed. In this case, a `for` loop (we shall see loops later in the course)."
   ]
  },
  {
   "cell_type": "code",
   "execution_count": null,
   "metadata": {},
   "outputs": [],
   "source": [
    "a = 'Open your eyes'\n",
    "b = [print(i) for i in enumerate(a)]"
   ]
  },
  {
   "cell_type": "code",
   "execution_count": null,
   "metadata": {},
   "outputs": [],
   "source": []
  }
 ],
 "metadata": {
  "kernelspec": {
   "display_name": "Python 3",
   "language": "python",
   "name": "python3"
  },
  "language_info": {
   "codemirror_mode": {
    "name": "ipython",
    "version": 3
   },
   "file_extension": ".py",
   "mimetype": "text/x-python",
   "name": "python",
   "nbconvert_exporter": "python",
   "pygments_lexer": "ipython3",
   "version": "3.7.4"
  }
 },
 "nbformat": 4,
 "nbformat_minor": 4
}
